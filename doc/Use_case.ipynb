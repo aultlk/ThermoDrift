{
 "cells": [
  {
   "cell_type": "markdown",
   "id": "e5081cc5",
   "metadata": {},
   "source": [
    "### Metagenomic Researcher"
   ]
  },
  {
   "cell_type": "markdown",
   "id": "70bb3b6d",
   "metadata": {},
   "source": [
    "### Nanoparticle Researcher"
   ]
  },
  {
   "cell_type": "markdown",
   "id": "7a04717c",
   "metadata": {},
   "source": [
    "### Machine Learning scientist"
   ]
  },
  {
   "cell_type": "code",
   "execution_count": null,
   "id": "2f787f90",
   "metadata": {},
   "outputs": [],
   "source": []
  }
 ],
 "metadata": {
  "kernelspec": {
   "display_name": "Python 3",
   "language": "python",
   "name": "python3"
  },
  "language_info": {
   "codemirror_mode": {
    "name": "ipython",
    "version": 3
   },
   "file_extension": ".py",
   "mimetype": "text/x-python",
   "name": "python",
   "nbconvert_exporter": "python",
   "pygments_lexer": "ipython3",
   "version": "3.8.8"
  }
 },
 "nbformat": 4,
 "nbformat_minor": 5
}
