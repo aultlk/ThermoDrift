{
 "cells": [
  {
   "cell_type": "code",
   "execution_count": 1,
   "id": "d664edd1",
   "metadata": {},
   "outputs": [],
   "source": [
    "from IPython.display import IFrame"
   ]
  },
  {
   "cell_type": "markdown",
   "id": "25e74a8a",
   "metadata": {},
   "source": [
    "### 1. Software Components Design"
   ]
  },
  {
   "cell_type": "code",
   "execution_count": 3,
   "id": "5ab2809b",
   "metadata": {},
   "outputs": [
    {
     "data": {
      "text/html": [
       "\n",
       "        <iframe\n",
       "            width=\"800\"\n",
       "            height=\"300\"\n",
       "            src=\"SoftwareComponentsDiagram.pdf\"\n",
       "            frameborder=\"0\"\n",
       "            allowfullscreen\n",
       "        ></iframe>\n",
       "        "
      ],
      "text/plain": [
       "<IPython.lib.display.IFrame at 0x7fee3679cc10>"
      ]
     },
     "execution_count": 3,
     "metadata": {},
     "output_type": "execute_result"
    }
   ],
   "source": [
    "IFrame(\"SoftwareComponentsDiagram.pdf\", width=800, height=300)"
   ]
  },
  {
   "cell_type": "markdown",
   "id": "90cb4ed3",
   "metadata": {},
   "source": [
    "### 2. Potential technologies for software components\n",
    "\n",
    "GUI platform\n",
    "* Dash\n",
    "* Streamlit\n",
    "* Jenga\n",
    "\n",
    "Machine/Deep Learning\n",
    "* pytorch\n",
    "* tensorflow"
   ]
  },
  {
   "cell_type": "code",
   "execution_count": null,
   "id": "d699b0ff",
   "metadata": {},
   "outputs": [],
   "source": []
  }
 ],
 "metadata": {
  "kernelspec": {
   "display_name": "Python 3",
   "language": "python",
   "name": "python3"
  },
  "language_info": {
   "codemirror_mode": {
    "name": "ipython",
    "version": 3
   },
   "file_extension": ".py",
   "mimetype": "text/x-python",
   "name": "python",
   "nbconvert_exporter": "python",
   "pygments_lexer": "ipython3",
   "version": "3.8.8"
  }
 },
 "nbformat": 4,
 "nbformat_minor": 5
}
