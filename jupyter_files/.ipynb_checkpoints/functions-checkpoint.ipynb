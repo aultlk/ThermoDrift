{
 "cells": [
  {
   "cell_type": "code",
   "execution_count": 42,
   "metadata": {},
   "outputs": [],
   "source": [
    "#import modules\n",
    "import pandas as pd\n",
    "import numpy as np\n",
    "import Bio\n",
    "from Bio import Seq\n",
    "from Bio import SeqIO\n",
    "import torch\n",
    "import matplotlib.pyplot as plt\n",
    "import sys\n",
    "from torch.utils.data import TensorDataset, DataLoader"
   ]
  },
  {
   "cell_type": "code",
   "execution_count": 44,
   "metadata": {},
   "outputs": [],
   "source": [
    "#define the fasta_to_classified_df function; which inputs fasta seqs and classifies them in a df\n",
    "def fasta_to_classified_df(fasta_path,protein_class='',sample=False):\n",
    "    seq_dict = {}  #define empty dict to store sequence ids and sequences\n",
    "    with open(fasta_path) as fasta_file:  # Will close handle cleanly\n",
    "        identifiers = []   #define empty id list \n",
    "        sequence = []   #define empty seq list \n",
    "        for seq_record in SeqIO.parse(fasta_path, 'fasta'):  # (generator)\n",
    "            identifiers.append(str(seq_record.id))    #append ids to id list\n",
    "            sequence.append(str(seq_record.seq))    #append seqs to seq list\n",
    "            seq_dict[str(seq_record.id)] = str(seq_record.seq)    #define an ID, seq dictionary\n",
    "    seq_list = list(seq_dict.items())  #enumerate the dictionary\n",
    "    df_seqs = pd.DataFrame(seq_list)    #create a df from enumerated dictionary\n",
    "    df_seqs.columns = ['protein','sequence']    #define column names\n",
    "    df_seqs['class'] = protein_class    #define the class of each imported csv\n",
    "    if sample == True:     \n",
    "        df_seqs = df_seqs.sample(frac=0.20)    #if sample == True, then sample 1/5 of the data(i.e. for Thermo proteins)\n",
    "    print(len(df_seqs.index))\n",
    "    return df_seqs"
   ]
  },
  {
   "cell_type": "code",
   "execution_count": 46,
   "metadata": {},
   "outputs": [],
   "source": [
    "# define the combine_dfs function; which concatenates the three dataframes\n",
    "def combine_dfs(list_of_dfs):\n",
    "    df_combine = pd.concat(list_of_dfs).reset_index(drop=True)\n",
    "    return df_combine"
   ]
  },
  {
   "cell_type": "code",
   "execution_count": 48,
   "metadata": {},
   "outputs": [],
   "source": [
    "#define the filter_seqs function\n",
    "def filter_seqs(df_seqs):\n",
    "    good_list = []\n",
    "    bad_list = []\n",
    "    sequence_list = df_seqs['sequence'].tolist()\n",
    "    for seq in sequence_list:\n",
    "        if seq.startswith('M'):\n",
    "            if len(seq) > 75:\n",
    "                good_list.append(seq)\n",
    "\n",
    "        else:\n",
    "            bad_list.append(seq)\n",
    "    boolean_series = df_combine.sequence.isin(good_list)\n",
    "    df_filter = df_combine[boolean_series]\n",
    "    return df_filter"
   ]
  },
  {
   "cell_type": "code",
   "execution_count": 29,
   "metadata": {},
   "outputs": [],
   "source": [
    "# define the seq1hot function\n",
    "def seq1hot(seq_list):\n",
    "    amino_acids = \"ARNDCQEGHILKMFPSTWYVUX_?-\"  #  the order of the one hot encoded amino acids and other symbols\n",
    "    aa2num= {x:i for i,x in enumerate(amino_acids)} # create a dictionary that maps amino acid to integer\n",
    "    X_data = torch.tensor([])    #define an empty tensor to store one hot encoded proteins seqs\n",
    "    for i,seq in enumerate(seq_list): \n",
    "        if len(seq) > 500:    #crop sequences longer than 500 aas\n",
    "            seq = seq[:500]     \n",
    "        protein1hot = np.eye(len(amino_acids))[np.array([aa2num.get(res) for res in seq])]    #one hot encode protein seq\n",
    "        tensor = torch.tensor(protein1hot)    #create a tensor of one hot encoded proteins sequences \n",
    "        tensor = torch.nn.functional.pad(tensor, (0,0,0,500-len(seq)))   #for sequences less than 500 aas pad the end with zeros\n",
    "        if X_data.size()[0] == 0:    #for the first iteration create an empty tensor\n",
    "            X_data = tensor[None]\n",
    "            print('Just made new tensor X_data')\n",
    "        else:\n",
    "            X_data = torch.cat((X_data,tensor[None]), axis=0)    #for each iteration concatenate the new sequence tensor to existing tensor\n",
    "            if i % 1000 == 0:    #update user on the status of 1hotencoding, which is quite computationally expensive \n",
    "                print(f'Looped through {int(i)} sequences...')\n",
    "    print(X_data.shape)\n",
    "    print(type(X_data))\n",
    "    return X_data"
   ]
  },
  {
   "cell_type": "code",
   "execution_count": 51,
   "metadata": {},
   "outputs": [],
   "source": [
    "#define the class1hot function\n",
    "def class1hot(class_list):\n",
    "    classes = ['Thermophillic','Mesophillic','Psychrophillic']   #the order of the one hot encoded classes\n",
    "    class2num= {x:i for i,x in enumerate(classes)}    #  create a dictionary that maps class to integer\n",
    "    y_data = torch.tensor([])   #define empty tensor to store class data\n",
    "    print('Just made new tensor y_data')\n",
    "    class_temp = [class2num[s] for s in class_list]   #loop through each class in the clast list and map string to dict\n",
    "    y_data = torch.nn.functional.one_hot(torch.tensor(class_temp),3)  #one hot encode the classes as defined by the dict\n",
    "    print(type(y_data))\n",
    "    print(y_data.shape)\n",
    "    return y_data\n"
   ]
  },
  {
   "cell_type": "code",
   "execution_count": 53,
   "metadata": {},
   "outputs": [],
   "source": [
    "#define the save_tensor function\n",
    "def save_tensor(tensor,file_path_name):\n",
    "    torch.save(tensor, file_path_name) #download tensor "
   ]
  }
 ],
 "metadata": {
  "kernelspec": {
   "display_name": "Python 3",
   "language": "python",
   "name": "python3"
  },
  "language_info": {
   "codemirror_mode": {
    "name": "ipython",
    "version": 3
   },
   "file_extension": ".py",
   "mimetype": "text/x-python",
   "name": "python",
   "nbconvert_exporter": "python",
   "pygments_lexer": "ipython3",
   "version": "3.8.2"
  }
 },
 "nbformat": 4,
 "nbformat_minor": 5
}
