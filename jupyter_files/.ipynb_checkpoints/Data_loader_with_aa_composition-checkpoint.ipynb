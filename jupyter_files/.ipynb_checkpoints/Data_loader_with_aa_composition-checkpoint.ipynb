{
 "cells": [
  {
   "cell_type": "code",
   "execution_count": 3,
   "metadata": {},
   "outputs": [],
   "source": [
    "#import modules\n",
    "import pandas as pd\n",
    "import numpy as np\n",
    "import Bio\n",
    "from Bio import Seq\n",
    "from Bio import SeqIO\n",
    "import torch\n",
    "import matplotlib.pyplot as plt\n",
    "import sys\n",
    "from torch.utils.data import TensorDataset, DataLoader"
   ]
  },
  {
   "cell_type": "code",
   "execution_count": 4,
   "metadata": {},
   "outputs": [],
   "source": [
    "#load the arrays into tensors and save them for training and testing the CNN model\n",
    "\n",
    "X_data = torch.load('/mnt/home/achazing/other/classes/data_science_class/ThermoDrift/tensors/tensor_x.pt') #load tensor to share for training\n",
    "y_data = torch.load('/mnt/home/achazing/other/classes/data_science_class/ThermoDrift/tensors/tensor_y.pt') #load tensor to share for training\n",
    "\n"
   ]
  },
  {
   "cell_type": "code",
   "execution_count": 24,
   "metadata": {},
   "outputs": [],
   "source": [
    "def add_aa_composition_to_tensor(X_tensor):\n",
    "    #first get the shape of the entire tensor\n",
    "    tensor_shape = X_tensor.shape\n",
    "    \n",
    "    # sum_aa_counts has summed all the 1.0 for every type of aa in a 500 aa sequence\n",
    "    #this array should have size [n_sequences(i.e. 60k), 25(types of aas)]\n",
    "    sum_aa_counts = torch.sum(X_tensor, dim=1)\n",
    "    print('sum_aa_counts: ',sum_aa_counts.shape)\n",
    "    #assert sum_aa_counts.shape[0] == tensor_shape[0]\n",
    "    \n",
    "    # sum the number of amino acid positions that contain data in them to get the length of every sequence\n",
    "    #this array should have size [n_sequences]\n",
    "    #lengths_old = torch.sum((sum_aa_counts > 0).long(),dim=1)\n",
    "    lengths =  torch.sum(sum_aa_counts, dim=1)\n",
    "    print('lengths: ',lengths.shape)\n",
    "    \n",
    "    #unsqueeze the lengths array to make an array of size [n_sequences,1]\n",
    "    #Then expand this array to have duplicate sequence lengths for all 25 amino acid types\n",
    "    #this repeat array should have size [n_sequences, 25(types of aas)]\n",
    "    repeat = lengths.unsqueeze(dim=1).expand(-1,25)\n",
    "    print('repeat: ',repeat.shape)\n",
    "    \n",
    "    #Divide the summed counts of each aa type in a given sequence by the length of that sequence to get percent aa\n",
    "    #Then unsqueeze to add a dimension at dim=1\n",
    "    #this divide_tensors array should have size [n_sequences, 1, 25(types of aas)]\n",
    "    divide_tensors = sum_aa_counts/repeat\n",
    "    divide_tensors = divide_tensors.unsqueeze(dim=1)\n",
    "    print('divide_tensors: ',divide_tensors.shape)\n",
    "\n",
    "    \n",
    "    #Now concatenate the amino acid fractions of each sequence to the end of the original tensor\n",
    "    #this new combine_tensors array should have size [n_sequences, 501, 25]\n",
    "    combine_tensors = torch.cat((X_tensor,divide_tensors),dim=1)\n",
    "    print('combine_tensors: ',combine_tensors.shape)\n",
    "\n",
    "    return combine_tensors"
   ]
  },
  {
   "cell_type": "code",
   "execution_count": 16,
   "metadata": {},
   "outputs": [],
   "source": [
    "X_data_subset = X_data[:1,:,:]"
   ]
  },
  {
   "cell_type": "code",
   "execution_count": 17,
   "metadata": {},
   "outputs": [
    {
     "data": {
      "text/plain": [
       "torch.Size([1, 500, 25])"
      ]
     },
     "execution_count": 17,
     "metadata": {},
     "output_type": "execute_result"
    }
   ],
   "source": [
    "X_data_subset.shape"
   ]
  },
  {
   "cell_type": "code",
   "execution_count": 18,
   "metadata": {},
   "outputs": [
    {
     "name": "stdout",
     "output_type": "stream",
     "text": [
      "sum_aa_counts:  torch.Size([1, 25])\n",
      "lengths:  torch.Size([1])\n",
      "repeat:  torch.Size([1, 25])\n",
      "divide_tensors:  torch.Size([1, 1, 25])\n",
      "combine_tensors:  torch.Size([1, 501, 25])\n"
     ]
    }
   ],
   "source": [
    "X_new = add_aa_composition_to_tensor(X_data_subset)"
   ]
  },
  {
   "cell_type": "code",
   "execution_count": 19,
   "metadata": {},
   "outputs": [
    {
     "data": {
      "text/plain": [
       "torch.Size([1, 501, 25])"
      ]
     },
     "execution_count": 19,
     "metadata": {},
     "output_type": "execute_result"
    }
   ],
   "source": [
    "X_new.shape"
   ]
  },
  {
   "cell_type": "code",
   "execution_count": 23,
   "metadata": {},
   "outputs": [
    {
     "data": {
      "text/plain": [
       "tensor(1.0000, dtype=torch.float64)"
      ]
     },
     "execution_count": 23,
     "metadata": {},
     "output_type": "execute_result"
    }
   ],
   "source": [
    "sum(X_new[0,-1,:])"
   ]
  },
  {
   "cell_type": "code",
   "execution_count": null,
   "metadata": {},
   "outputs": [],
   "source": [
    "# sum_aa_counts has summed all the 1.0 for every type of aa in a 500 aa sequence\n",
    "#this array should have size [n_sequences(i.e. 60k), 25(types of aas)]\n",
    "sum_aa_counts = torch.sum(X_data, dim=1)\n",
    "sum_aa_counts.shape"
   ]
  },
  {
   "cell_type": "code",
   "execution_count": null,
   "metadata": {},
   "outputs": [],
   "source": [
    "lengths = torch.sum((sum_aa_counts > 0).long(),dim=1)\n",
    "lengths.shape"
   ]
  },
  {
   "cell_type": "code",
   "execution_count": null,
   "metadata": {},
   "outputs": [],
   "source": [
    "\n",
    "#repeat = torch.cat([lengths[None]]*25,dim=0)\n",
    "repeat = lengths.unsqueeze(dim=1).expand(-1,25)\n",
    "repeat.shape\n"
   ]
  },
  {
   "cell_type": "code",
   "execution_count": null,
   "metadata": {},
   "outputs": [],
   "source": [
    "divide_tensors = sum_tensor/repeat\n",
    "divide_tensors = divide_tensors.unsqueeze(dim=1)\n",
    "divide_tensors.shape"
   ]
  },
  {
   "cell_type": "code",
   "execution_count": null,
   "metadata": {},
   "outputs": [],
   "source": [
    "combine_tensors = torch.cat((X_data_subset,divide_tensors),dim=1)\n",
    "combine_tensors.shape"
   ]
  },
  {
   "cell_type": "code",
   "execution_count": null,
   "metadata": {},
   "outputs": [],
   "source": [
    "combine_tensors[1,495:501,:]"
   ]
  },
  {
   "cell_type": "code",
   "execution_count": null,
   "metadata": {},
   "outputs": [],
   "source": []
  }
 ],
 "metadata": {
  "kernelspec": {
   "display_name": "SE3 (Python 3.8.2)",
   "language": "python",
   "name": "se3"
  },
  "language_info": {
   "codemirror_mode": {
    "name": "ipython",
    "version": 3
   },
   "file_extension": ".py",
   "mimetype": "text/x-python",
   "name": "python",
   "nbconvert_exporter": "python",
   "pygments_lexer": "ipython3",
   "version": "3.8.2"
  }
 },
 "nbformat": 4,
 "nbformat_minor": 5
}
