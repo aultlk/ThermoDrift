{
 "cells": [
  {
   "cell_type": "markdown",
   "metadata": {},
   "source": [
    "# Analyze training data for different models by parsing log files"
   ]
  },
  {
   "cell_type": "code",
   "execution_count": 23,
   "metadata": {},
   "outputs": [],
   "source": [
    "import numpy as np\n",
    "import matplotlib.pyplot as plt\n",
    "import pandas as pd\n",
    "import seaborn as sns\n",
    "import glob"
   ]
  },
  {
   "cell_type": "code",
   "execution_count": 20,
   "metadata": {},
   "outputs": [],
   "source": [
    "path = '/mnt/home/achazing/other/classes/data_science_class/ThermoDrift/data/log_files/experiments/aa_compv5/train.log'\n",
    "\n",
    "train_loss = []\n",
    "train_example = []\n",
    "count= -1\n",
    "with open(path,'r') as file:\n",
    "    model_name = path.split('/')[-2]\n",
    "    lines = file.readlines()\n",
    "    for l in lines:\n",
    "        l = l.strip('\\n')\n",
    "        if l.startswith('Train'):\n",
    "            count+=1\n",
    "            split = l.split()\n",
    "            loss = float(split[-1])\n",
    "            example = int(split[3])\n",
    "            #print(count,example)\n",
    "            train_loss.append(loss)\n",
    "            train_example.append(count)\n",
    "            \n",
    "            "
   ]
  },
  {
   "cell_type": "code",
   "execution_count": 19,
   "metadata": {},
   "outputs": [
    {
     "data": {
      "text/plain": [
       "Text(0.5, 1.0, 'Training curve for aa_compv5')"
      ]
     },
     "execution_count": 19,
     "metadata": {},
     "output_type": "execute_result"
    },
    {
     "data": {
      "image/png": "[encoded data removed]",
      "text/plain": [
       "<Figure size 432x288 with 1 Axes>"
      ]
     },
     "metadata": {
      "needs_background": "light"
     },
     "output_type": "display_data"
    }
   ],
   "source": [
    "plt.plot(train_example,train_loss)\n",
    "plt.ylim(0,1.2)\n",
    "plt.xlabel('training examples')\n",
    "plt.ylabel('loss')\n",
    "plt.title(f'Training curve for {model_name}')\n",
    "plt.savefig(f'figures/Training_curve_{model_name}.png',dpi=600)"
   ]
  },
  {
   "cell_type": "code",
   "execution_count": 28,
   "metadata": {},
   "outputs": [],
   "source": [
    "def plot_training_curve(path,data_cat):\n",
    "    train_loss = []\n",
    "    train_example = []\n",
    "    count= -1\n",
    "    with open(path,'r') as file:\n",
    "        model_name = path.split('/')[-2]\n",
    "        lines = file.readlines()\n",
    "        for l in lines:\n",
    "            l = l.strip('\\n')\n",
    "            if l.startswith(data_cat):\n",
    "                count+=1\n",
    "                split = l.split()\n",
    "                loss = float(split[-1])\n",
    "                example = int(split[3])\n",
    "                train_loss.append(loss)\n",
    "                train_example.append(count)\n",
    "    file.close()\n",
    "    \n",
    "    plt.plot(train_example,train_loss)\n",
    "    plt.ylim(0,1.2)\n",
    "    plt.xlabel(f'{data_cat} examples')\n",
    "    plt.ylabel('loss')\n",
    "    plt.title(f'{data_cat} curve for {model_name}')\n",
    "    plt.savefig(f'figures/{data_cat}_curve_{model_name}.png',dpi=600)\n",
    "    plt.show()\n"
   ]
  },
  {
   "cell_type": "code",
   "execution_count": 34,
   "metadata": {},
   "outputs": [
    {
     "data": {
      "text/plain": [
       "['/mnt/home/achazing/other/classes/data_science_class/ThermoDrift/data/log_files/experiments/aa_compv5/train.log',\n",
       " '/mnt/home/achazing/other/classes/data_science_class/ThermoDrift/data/log_files/experiments/medium_widthv3/train.log',\n",
       " '/mnt/home/achazing/other/classes/data_science_class/ThermoDrift/data/log_files/experiments/medium_widthv4/train.log',\n",
       " '/mnt/home/achazing/other/classes/data_science_class/ThermoDrift/data/log_files/experiments/aa_compv2/train.log',\n",
       " '/mnt/home/achazing/other/classes/data_science_class/ThermoDrift/data/log_files/experiments/aa_comp_drop15v1/train.log',\n",
       " '/mnt/home/achazing/other/classes/data_science_class/ThermoDrift/data/log_files/experiments/medium_width_drop15v1/train.log',\n",
       " '/mnt/home/achazing/other/classes/data_science_class/ThermoDrift/data/log_files/experiments/medium_widthv7/train.log',\n",
       " '/mnt/home/achazing/other/classes/data_science_class/ThermoDrift/data/log_files/experiments/aa_compv1/train.log',\n",
       " '/mnt/home/achazing/other/classes/data_science_class/ThermoDrift/data/log_files/experiments/medium_width_drop15v2/train.log',\n",
       " '/mnt/home/achazing/other/classes/data_science_class/ThermoDrift/data/log_files/experiments/aa_comp_drop15v2/train.log',\n",
       " '/mnt/home/achazing/other/classes/data_science_class/ThermoDrift/data/log_files/experiments/aa_comp_drop15v0/train.log',\n",
       " '/mnt/home/achazing/other/classes/data_science_class/ThermoDrift/data/log_files/experiments/medium_width_drop15v0/train.log',\n",
       " '/mnt/home/achazing/other/classes/data_science_class/ThermoDrift/data/log_files/experiments/medium_widthv5/train.log',\n",
       " '/mnt/home/achazing/other/classes/data_science_class/ThermoDrift/data/log_files/experiments/aa_compv3/train.log',\n",
       " '/mnt/home/achazing/other/classes/data_science_class/ThermoDrift/data/log_files/experiments/aa_compv4/train.log',\n",
       " '/mnt/home/achazing/other/classes/data_science_class/ThermoDrift/data/log_files/experiments/medium_widthv2/train.log',\n",
       " '/mnt/home/achazing/other/classes/data_science_class/ThermoDrift/data/log_files/experiments/medium_widthv8/train.log',\n",
       " '/mnt/home/achazing/other/classes/data_science_class/ThermoDrift/data/log_files/experiments/medium_width_drop15v3/train.log',\n",
       " '/mnt/home/achazing/other/classes/data_science_class/ThermoDrift/data/log_files/experiments/aa_comp_drop15v3/train.log',\n",
       " '/mnt/home/achazing/other/classes/data_science_class/ThermoDrift/data/log_files/experiments/medium_widthv6/train.log',\n",
       " '/mnt/home/achazing/other/classes/data_science_class/ThermoDrift/data/log_files/experiments/medium_widthv1/train.log']"
      ]
     },
     "execution_count": 34,
     "metadata": {},
     "output_type": "execute_result"
    }
   ],
   "source": [
    "train_paths = glob.glob('/mnt/home/achazing/other/classes/data_science_class/ThermoDrift/data/log_files/experiments/*/*')\n",
    "train_paths\n",
    "# for path in train_paths:\n",
    "#     plot_training_curve(path)\n",
    "\n"
   ]
  },
  {
   "cell_type": "code",
   "execution_count": null,
   "metadata": {},
   "outputs": [],
   "source": []
  }
 ],
 "metadata": {
  "kernelspec": {
   "display_name": "Tensorflow (Python 3.6)",
   "language": "python",
   "name": "tensorflow"
  },
  "language_info": {
   "codemirror_mode": {
    "name": "ipython",
    "version": 3
   },
   "file_extension": ".py",
   "mimetype": "text/x-python",
   "name": "python",
   "nbconvert_exporter": "python",
   "pygments_lexer": "ipython3",
   "version": "3.6.9"
  }
 },
 "nbformat": 4,
 "nbformat_minor": 4
}
