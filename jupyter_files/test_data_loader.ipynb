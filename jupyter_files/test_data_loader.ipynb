{
 "cells": [
  {
   "cell_type": "code",
   "execution_count": 42,
   "id": "0a5a6b7c",
   "metadata": {},
   "outputs": [],
   "source": [
    "#import modules\n",
    "import pandas as pd\n",
    "import numpy as np\n",
    "import Bio\n",
    "from Bio import Seq\n",
    "from Bio import SeqIO\n",
    "import torch\n",
    "import matplotlib.pyplot as plt\n",
    "import sys\n",
    "from torch.utils.data import TensorDataset, DataLoader"
   ]
  },
  {
   "cell_type": "code",
   "execution_count": 43,
   "id": "6433eaac",
   "metadata": {},
   "outputs": [],
   "source": [
    "#define data file paths for running locally/testing\n",
    "thermo_path_local = '../../../data_sets/thermal_proteins/uniprot-thermophilus.fasta'\n",
    "psychro_path_local = '../../../data_sets/thermal_proteins/uniprot-psychrophilus.fasta'\n",
    "meso_path_local = '../../../data_sets/thermal_proteins/uniprot-mesophilus.fasta'"
   ]
  },
  {
   "cell_type": "code",
   "execution_count": 21,
   "id": "e13e623c",
   "metadata": {},
   "outputs": [],
   "source": [
    "# assert that the length of the sequences are 500 aas\n",
    "assert 500 == X_array.shape[1]\n",
    "\n",
    "# assert that the number of amino acids is 25\n",
    "assert 25 == X_array.shape[2]"
   ]
  },
  {
   "cell_type": "code",
   "execution_count": 55,
   "id": "bee9667c",
   "metadata": {},
   "outputs": [
    {
     "name": "stdout",
     "output_type": "stream",
     "text": [
      "20718\n",
      "19386\n",
      "23618\n",
      "Just made new tensor X_data\n",
      "Looped through 1000 sequences...\n",
      "Looped through 2000 sequences...\n",
      "Looped through 3000 sequences...\n"
     ]
    },
    {
     "ename": "KeyboardInterrupt",
     "evalue": "",
     "output_type": "error",
     "traceback": [
      "\u001b[0;31m---------------------------------------------------------------------------\u001b[0m",
      "\u001b[0;31mKeyboardInterrupt\u001b[0m                         Traceback (most recent call last)",
      "\u001b[0;32m/var/folders/gb/95qmct013qvgs3x2c2qn2s780000gn/T/ipykernel_45053/2123446100.py\u001b[0m in \u001b[0;36m<module>\u001b[0;34m\u001b[0m\n\u001b[1;32m      1\u001b[0m \u001b[0;32mimport\u001b[0m \u001b[0munittest\u001b[0m\u001b[0;34m\u001b[0m\u001b[0;34m\u001b[0m\u001b[0m\n\u001b[0;32m----> 2\u001b[0;31m \u001b[0;32mimport\u001b[0m \u001b[0mdata_loader\u001b[0m\u001b[0;34m\u001b[0m\u001b[0;34m\u001b[0m\u001b[0m\n\u001b[0m\u001b[1;32m      3\u001b[0m \u001b[0;34m\u001b[0m\u001b[0m\n\u001b[1;32m      4\u001b[0m \u001b[0;31m# Define a class in which the tests will run\u001b[0m\u001b[0;34m\u001b[0m\u001b[0;34m\u001b[0m\u001b[0m\n\u001b[1;32m      5\u001b[0m \u001b[0;32mclass\u001b[0m \u001b[0mTestDataLoader\u001b[0m\u001b[0;34m(\u001b[0m\u001b[0munittest\u001b[0m\u001b[0;34m.\u001b[0m\u001b[0mTestCase\u001b[0m\u001b[0;34m)\u001b[0m\u001b[0;34m:\u001b[0m\u001b[0;34m\u001b[0m\u001b[0;34m\u001b[0m\u001b[0m\n",
      "\u001b[0;32m~/Documents/data_class/projects/Thermo_proteins_project/ThermoDrift/data_loader.py\u001b[0m in \u001b[0;36m<module>\u001b[0;34m\u001b[0m\n\u001b[1;32m    140\u001b[0m \u001b[0;34m\u001b[0m\u001b[0m\n\u001b[1;32m    141\u001b[0m \u001b[0;31m#test the seq1hot function\u001b[0m\u001b[0;34m\u001b[0m\u001b[0;34m\u001b[0m\u001b[0m\n\u001b[0;32m--> 142\u001b[0;31m \u001b[0mX_data\u001b[0m \u001b[0;34m=\u001b[0m \u001b[0mseq1hot\u001b[0m\u001b[0;34m(\u001b[0m\u001b[0mseq_list\u001b[0m\u001b[0;34m)\u001b[0m\u001b[0;34m\u001b[0m\u001b[0;34m\u001b[0m\u001b[0m\n\u001b[0m\u001b[1;32m    143\u001b[0m \u001b[0;34m\u001b[0m\u001b[0m\n\u001b[1;32m    144\u001b[0m \u001b[0;34m\u001b[0m\u001b[0m\n",
      "\u001b[0;32m~/Documents/data_class/projects/Thermo_proteins_project/ThermoDrift/data_loader.py\u001b[0m in \u001b[0;36mseq1hot\u001b[0;34m(seq_list)\u001b[0m\n\u001b[1;32m    128\u001b[0m             \u001b[0mprint\u001b[0m\u001b[0;34m(\u001b[0m\u001b[0;34m'Just made new tensor X_data'\u001b[0m\u001b[0;34m)\u001b[0m\u001b[0;34m\u001b[0m\u001b[0;34m\u001b[0m\u001b[0m\n\u001b[1;32m    129\u001b[0m         \u001b[0;32melse\u001b[0m\u001b[0;34m:\u001b[0m\u001b[0;34m\u001b[0m\u001b[0;34m\u001b[0m\u001b[0m\n\u001b[0;32m--> 130\u001b[0;31m             \u001b[0mX_data\u001b[0m \u001b[0;34m=\u001b[0m \u001b[0mtorch\u001b[0m\u001b[0;34m.\u001b[0m\u001b[0mcat\u001b[0m\u001b[0;34m(\u001b[0m\u001b[0;34m(\u001b[0m\u001b[0mX_data\u001b[0m\u001b[0;34m,\u001b[0m\u001b[0mtensor\u001b[0m\u001b[0;34m[\u001b[0m\u001b[0;32mNone\u001b[0m\u001b[0;34m]\u001b[0m\u001b[0;34m)\u001b[0m\u001b[0;34m,\u001b[0m \u001b[0maxis\u001b[0m\u001b[0;34m=\u001b[0m\u001b[0;36m0\u001b[0m\u001b[0;34m)\u001b[0m    \u001b[0;31m#for each iteration concatenate the new sequence tensor to existing tensor\u001b[0m\u001b[0;34m\u001b[0m\u001b[0;34m\u001b[0m\u001b[0m\n\u001b[0m\u001b[1;32m    131\u001b[0m             \u001b[0;32mif\u001b[0m \u001b[0mi\u001b[0m \u001b[0;34m%\u001b[0m \u001b[0;36m1000\u001b[0m \u001b[0;34m==\u001b[0m \u001b[0;36m0\u001b[0m\u001b[0;34m:\u001b[0m    \u001b[0;31m#update user on the status of 1hotencoding, which is quite computationally expensive\u001b[0m\u001b[0;34m\u001b[0m\u001b[0;34m\u001b[0m\u001b[0m\n\u001b[1;32m    132\u001b[0m                 \u001b[0mprint\u001b[0m\u001b[0;34m(\u001b[0m\u001b[0;34mf'Looped through {int(i)} sequences...'\u001b[0m\u001b[0;34m)\u001b[0m\u001b[0;34m\u001b[0m\u001b[0;34m\u001b[0m\u001b[0m\n",
      "\u001b[0;31mKeyboardInterrupt\u001b[0m: "
     ]
    }
   ],
   "source": [
    "import unittest\n",
    "import data_loader\n",
    "\n",
    "# Define a class in which the tests will run\n",
    "class TestDataLoader(unittest.TestCase):\n",
    "    self.test_thermo_path = thermo_path_local\n",
    "    self.test_meso_path = meso_path_local\n",
    "    self.test_psychro_path = psychro_path_local \n",
    "    \n",
    "    self.df_thermo = data_loader.fasta_to_classified_df(self.test_thermo_path)\n",
    "    self.df_psychro = data_loader.fasta_to_classified_df(self.test_psychro_path)\n",
    "    self.df_meso = data_loader.fasta_to_classified_df(self.test_meso_path)\n",
    "    '''\n",
    "    def test_fasta_to_classified_df(self):\n",
    "        self.df_thermo = data_loader.fasta_to_classified_df(self.test_thermo_path)\n",
    "        self.df_psychro = data_loader.fasta_to_classified_df(self.test_psychro_path)\n",
    "        self.df_meso = data_loader.fasta_to_classified_df(self.test_meso_path)\n",
    "        \n",
    "        self.assertEqual(data_loader.fasta_to_classified_df(), )\n",
    "\n",
    "    '''\n",
    "    def test_combine_dfs(self):\n",
    "        dfs = [self.df_themro, self.df_psychro, self.df_meso]\n",
    "        self.assertEqual(len(data_loader.combine_dfs(dfs)), sum([len(l) for l in dfs]))\n",
    "       \n",
    "    '''\n",
    "    def test_filter_seqs(self):\n",
    "        self.assertEqual(geomean([1,1]), 1)\n",
    "        \n",
    "    def test_seq1hot(self):\n",
    "        self.assertEqual(geomean([1,1]), 1)\n",
    "               \n",
    "    def test_class1hot(self):\n",
    "        self.assertEqual(geomean([3, 3, 3]), 3)\n",
    "        \n",
    "    def test_save_tensor(self):\n",
    "        self.assertEqual(geomean([3, 3, 3]), 3)\n",
    "    '''"
   ]
  },
  {
   "cell_type": "code",
   "execution_count": 24,
   "id": "5dd3ec05",
   "metadata": {},
   "outputs": [],
   "source": [
    "#assert that the length of classes is 100\n",
    "assert 100 == y_array.shape[0]\n",
    "\n",
    "#assert that the number of classes is 3 (thermo, meso, psychro)\n",
    "assert 3 == y_array.shape[1]"
   ]
  },
  {
   "cell_type": "code",
   "execution_count": null,
   "id": "748a1794",
   "metadata": {},
   "outputs": [],
   "source": []
  }
 ],
 "metadata": {
  "kernelspec": {
   "display_name": "Python 3 (ipykernel)",
   "language": "python",
   "name": "python3"
  },
  "language_info": {
   "codemirror_mode": {
    "name": "ipython",
    "version": 3
   },
   "file_extension": ".py",
   "mimetype": "text/x-python",
   "name": "python",
   "nbconvert_exporter": "python",
   "pygments_lexer": "ipython3",
   "version": "3.9.7"
  }
 },
 "nbformat": 4,
 "nbformat_minor": 5
}
