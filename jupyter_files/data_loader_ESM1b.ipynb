{
 "cells": [
  {
   "cell_type": "code",
   "execution_count": 52,
   "metadata": {},
   "outputs": [],
   "source": [
    "#import modules\n",
    "import pandas as pd\n",
    "import numpy as np\n",
    "import Bio\n",
    "from Bio import Seq\n",
    "from Bio import SeqIO\n",
    "import torch\n",
    "import matplotlib.pyplot as plt\n",
    "import sys\n",
    "from torch.utils.data import TensorDataset, DataLoader\n",
    "import functions\n",
    "import random\n",
    "import pickle"
   ]
  },
  {
   "cell_type": "code",
   "execution_count": 38,
   "metadata": {},
   "outputs": [],
   "source": [
    "#define data file paths for running on digs\n",
    "thermo_path_digs = '/home/achazing/other/classes/data_science_class/ThermoDrift/data/uniprot-thermophilus.fasta'\n",
    "psychro_path_digs = '/home/achazing/other/classes/data_science_class/ThermoDrift/data/uniprot-psychrophilus.fasta'\n",
    "meso_path_digs = '/home/achazing/other/classes/data_science_class/ThermoDrift/data/uniprot-mesophilus.fasta'"
   ]
  },
  {
   "cell_type": "code",
   "execution_count": 39,
   "metadata": {},
   "outputs": [],
   "source": [
    "#define data file paths for running locally/testing\n",
    "thermo_path_local = '../../../data_sets/thermal_proteins/uniprot-thermophilus.fasta'\n",
    "psychro_path_local = '../../../data_sets/thermal_proteins/uniprot-psychrophilus.fasta'\n",
    "meso_path_local = '../../../data_sets/thermal_proteins/uniprot-mesophilus.fasta'"
   ]
  },
  {
   "cell_type": "code",
   "execution_count": 40,
   "metadata": {},
   "outputs": [
    {
     "name": "stdout",
     "output_type": "stream",
     "text": [
      "20718\n",
      "19386\n",
      "23618\n"
     ]
    }
   ],
   "source": [
    "#run the fasta_to_classified_df function\n",
    "df_thermo = functions.fasta_to_classified_df(thermo_path_digs,protein_class=0,sample=True)\n",
    "df_meso = functions.fasta_to_classified_df(meso_path_digs,protein_class=1)\n",
    "df_psychro = functions.fasta_to_classified_df(psychro_path_digs,protein_class=2)\n"
   ]
  },
  {
   "cell_type": "code",
   "execution_count": null,
   "metadata": {},
   "outputs": [],
   "source": [
    "#filter the "
   ]
  },
  {
   "cell_type": "code",
   "execution_count": 41,
   "metadata": {},
   "outputs": [],
   "source": [
    "#run the combine_dfs function\n",
    "list_dfs = [df_thermo,df_meso,df_psychro]\n",
    "df_combine = functions.combine_dfs(list_dfs)"
   ]
  },
  {
   "cell_type": "code",
   "execution_count": 42,
   "metadata": {},
   "outputs": [
    {
     "data": {
      "text/plain": [
       "{0, 1, 2}"
      ]
     },
     "execution_count": 42,
     "metadata": {},
     "output_type": "execute_result"
    }
   ],
   "source": [
    "set(df_combine['class'])"
   ]
  },
  {
   "cell_type": "code",
   "execution_count": 43,
   "metadata": {},
   "outputs": [
    {
     "data": {
      "text/html": [
       "<div>\n",
       "<style scoped>\n",
       "    .dataframe tbody tr th:only-of-type {\n",
       "        vertical-align: middle;\n",
       "    }\n",
       "\n",
       "    .dataframe tbody tr th {\n",
       "        vertical-align: top;\n",
       "    }\n",
       "\n",
       "    .dataframe thead th {\n",
       "        text-align: right;\n",
       "    }\n",
       "</style>\n",
       "<table border=\"1\" class=\"dataframe\">\n",
       "  <thead>\n",
       "    <tr style=\"text-align: right;\">\n",
       "      <th></th>\n",
       "      <th>protein</th>\n",
       "      <th>sequence</th>\n",
       "      <th>class</th>\n",
       "    </tr>\n",
       "  </thead>\n",
       "  <tbody>\n",
       "    <tr>\n",
       "      <th>0</th>\n",
       "      <td>tr|A0A4P6UVN6|A0A4P6UVN6_9BACL</td>\n",
       "      <td>MKKIRTTLLLIFGILLLLVIASFIFSNTINSIHSNEQQINQYKESL...</td>\n",
       "      <td>0</td>\n",
       "    </tr>\n",
       "    <tr>\n",
       "      <th>1</th>\n",
       "      <td>tr|A0A3G6JK05|A0A3G6JK05_STRTR</td>\n",
       "      <td>MKFTKNQFIWLVVLFLSCFLIYTYWETVVSICNKIFVASQPFLFGA...</td>\n",
       "      <td>0</td>\n",
       "    </tr>\n",
       "    <tr>\n",
       "      <th>2</th>\n",
       "      <td>tr|D1C6N8|D1C6N8_SPHTD</td>\n",
       "      <td>MSASTVRTAHARSSFSLSLKGSEMMKTEAQPSERVLTVVEVWRQPE...</td>\n",
       "      <td>0</td>\n",
       "    </tr>\n",
       "    <tr>\n",
       "      <th>3</th>\n",
       "      <td>tr|A0A1U9K615|A0A1U9K615_9BACL</td>\n",
       "      <td>MPEVYCSVANCFFWAEGNKCDADAIMVEVNEHADHRFNEEVGGEMV...</td>\n",
       "      <td>0</td>\n",
       "    </tr>\n",
       "    <tr>\n",
       "      <th>4</th>\n",
       "      <td>tr|A0A510HVI6|A0A510HVI6_THETH</td>\n",
       "      <td>MRRGLVLPFALVLSLALAAGLTELYDGLEAALGQVRLENPAQAVNA...</td>\n",
       "      <td>0</td>\n",
       "    </tr>\n",
       "  </tbody>\n",
       "</table>\n",
       "</div>"
      ],
      "text/plain": [
       "                          protein  \\\n",
       "0  tr|A0A4P6UVN6|A0A4P6UVN6_9BACL   \n",
       "1  tr|A0A3G6JK05|A0A3G6JK05_STRTR   \n",
       "2          tr|D1C6N8|D1C6N8_SPHTD   \n",
       "3  tr|A0A1U9K615|A0A1U9K615_9BACL   \n",
       "4  tr|A0A510HVI6|A0A510HVI6_THETH   \n",
       "\n",
       "                                            sequence  class  \n",
       "0  MKKIRTTLLLIFGILLLLVIASFIFSNTINSIHSNEQQINQYKESL...      0  \n",
       "1  MKFTKNQFIWLVVLFLSCFLIYTYWETVVSICNKIFVASQPFLFGA...      0  \n",
       "2  MSASTVRTAHARSSFSLSLKGSEMMKTEAQPSERVLTVVEVWRQPE...      0  \n",
       "3  MPEVYCSVANCFFWAEGNKCDADAIMVEVNEHADHRFNEEVGGEMV...      0  \n",
       "4  MRRGLVLPFALVLSLALAAGLTELYDGLEAALGQVRLENPAQAVNA...      0  "
      ]
     },
     "execution_count": 43,
     "metadata": {},
     "output_type": "execute_result"
    }
   ],
   "source": [
    "df_combine.head()"
   ]
  },
  {
   "cell_type": "code",
   "execution_count": 44,
   "metadata": {},
   "outputs": [],
   "source": [
    "#create lists of sequences and classes\n",
    "seq_list = df_combine['sequence'].tolist()\n",
    "class_list = df_combine['class'].tolist()\n",
    "\n",
    "length_list = [len(i) for i in seq_list]\n",
    "df_combine['length'] = length_list"
   ]
  },
  {
   "cell_type": "code",
   "execution_count": 45,
   "metadata": {},
   "outputs": [
    {
     "data": {
      "text/plain": [
       "[(0,\n",
       "  'MKKIRTTLLLIFGILLLLVIASFIFSNTINSIHSNEQQINQYKESLFNNYNNLIKSQTESAVKLLEYVYLVEGDLKGLDTLFCFPFLLLNEKTFDYLKIKTSYHLKQKTSNGIK'),\n",
       " (0,\n",
       "  'MKFTKNQFIWLVVLFLSCFLIYTYWETVVSICNKIFVASQPFLFGAGIAFVVNILMSFYEKILIKFIPFGFITKIKRPVSLLLAFATIGLIFTWVVFTVLPDLIDSINTLISQDRSAINNLINWLLKNKSLQKIIQDLGGVTQVRELINSYSAQLLQQIMNGLTNFLTSLTSLPSTLINLFISIVFSCYVLVGKEKLGSQVNRLVDVYLGRYGKTFHYVVAILNNRFRNFFVYQSIEACILGTLCYIGMRIFNFPYAATISILIGFSSMIPVLGAYIGVTIGTILIMTHSVTLALLFVAYVVILQQFEGNLIYPYVVGGSTGLPVVWVILAITIGSALGGILGMLVSVPVAATLYQIVKDNVVTREKAKAVASLENSD'),\n",
       " (0,\n",
       "  'MSASTVRTAHARSSFSLSLKGSEMMKTEAQPSERVLTVVEVWRQPEPSPRQYIVEGLIPAGRITSLFADGGTGKSYLALYVAVCVALGRPVFNRAVIQGPVLFVDAELDAEEFVRRAYEVARGLGLERPPEGLFYHRIAGSLADPLVMADVEAVVEKVTPVLVVLDSVMAAAFGADLERAPDTTATFKSVERWGTVLALDHVPKPAPGANLSQLRAYGSVFKYNLSRSVLQLIQAEAGGLILRQTKHNFGPKSAPLSIAMDFGADRVTFAEVPINDDRFAGIDDHLPTGERVFRVLMQYERGTTPDALAQELELSAGTVRNALTALKKAGRVEQVERGVWRVTHFHHFTALKGGEVMNFGLLCPNGHTSEDEEEVEY')]"
      ]
     },
     "execution_count": 45,
     "metadata": {},
     "output_type": "execute_result"
    }
   ],
   "source": [
    "#Create a list of tuples to load examples into ESM1b\n",
    "tuple_data = [(class_list[i],seq_list[i]) for i in range(len(seq_list))]\n",
    "tuple_data[:3]"
   ]
  },
  {
   "cell_type": "code",
   "execution_count": 83,
   "metadata": {},
   "outputs": [],
   "source": [
    "#create a list of tuples that have been filtered on size to load examples into ESM1b\n",
    "tuple_data_filtered = []\n",
    "for i in range(len(seq_list)):\n",
    "    if len(seq_list[i]) >= 75 and len(seq_list[i]) <= 500:\n",
    "        tuple_data_filtered.append((class_list[i],seq_list[i]))"
   ]
  },
  {
   "cell_type": "code",
   "execution_count": 84,
   "metadata": {},
   "outputs": [
    {
     "data": {
      "text/plain": [
       "{0, 1, 2}"
      ]
     },
     "execution_count": 84,
     "metadata": {},
     "output_type": "execute_result"
    }
   ],
   "source": [
    "set(tuple_data_filtered[i][0] for i in range(len(tuple_data_filtered)))"
   ]
  },
  {
   "cell_type": "code",
   "execution_count": 85,
   "metadata": {},
   "outputs": [],
   "source": [
    "len_thermo = []\n",
    "len_psychro = []\n",
    "len_meso = []\n",
    "for i in range(len(tuple_data_filtered)):\n",
    "    if tuple_data_filtered[i][0] == 0:\n",
    "        len_thermo.append(len(tuple_data_filtered[i][1]))\n",
    "    elif tuple_data_filtered[i][0] == 1:\n",
    "        len_meso.append(len(tuple_data_filtered[i][1]))\n",
    "    elif tuple_data_filtered[i][0] == 2:\n",
    "        len_psychro.append(len(tuple_data_filtered[i][1]))"
   ]
  },
  {
   "cell_type": "code",
   "execution_count": 86,
   "metadata": {},
   "outputs": [
    {
     "name": "stdout",
     "output_type": "stream",
     "text": [
      "len_thermo is  16169 len_meso is  15780 len_psychro is  19095\n"
     ]
    }
   ],
   "source": [
    "print('len_thermo is ',len(len_thermo),'len_meso is ',len(len_meso),'len_psychro is ',len(len_psychro))"
   ]
  },
  {
   "cell_type": "code",
   "execution_count": 87,
   "metadata": {},
   "outputs": [
    {
     "data": {
      "text/plain": [
       "Text(0.5, 0, '')"
      ]
     },
     "execution_count": 87,
     "metadata": {},
     "output_type": "execute_result"
    },
    {
     "data": {
      "image/png": "[encoded data removed]",
      "text/plain": [
       "<Figure size 432x288 with 1 Axes>"
      ]
     },
     "metadata": {
      "needs_background": "light"
     },
     "output_type": "display_data"
    }
   ],
   "source": [
    "plt.hist(len_thermo,label='len_thermo',alpha=0.3)\n",
    "plt.hist(len_meso,label='len_thermo',alpha=0.3)\n",
    "plt.hist(len_psychro,label='len_thermo',alpha=0.3)\n",
    "plt.xlabel('')"
   ]
  },
  {
   "cell_type": "code",
   "execution_count": 88,
   "metadata": {},
   "outputs": [],
   "source": [
    "#create length filtered tuple lists for each class\n",
    "tuples_thermo = []\n",
    "tuples_psychro = []\n",
    "tuples_meso = []\n",
    "for i in range(len(tuple_data_filtered)):\n",
    "    if tuple_data_filtered[i][0] == 0:\n",
    "        tuples_thermo.append(tuple_data_filtered[i])\n",
    "    elif tuple_data_filtered[i][0] == 1:\n",
    "        tuples_meso.append(tuple_data_filtered[i])\n",
    "    elif tuple_data_filtered[i][0] == 2:\n",
    "        tuples_psychro.append(tuple_data_filtered[i])"
   ]
  },
  {
   "cell_type": "code",
   "execution_count": 92,
   "metadata": {},
   "outputs": [
    {
     "data": {
      "text/plain": [
       "[(0,\n",
       "  'MRPGLSAKRLVVKVGSAVLTGEKGLDLEVMAEIARQMAALREKGREVVLVSSGAVAAGMRRLGLKERPKDMPKKQALAALGQPLLMAFWQEAFAPFGLPVAQVLLTAEDLSSRERYLNAKATLRALWELGVVPVINENDTVAFQEIRFGDNDQLSARVAALVEAELLVLLSDVDALYEEDPKKNPEARPILEVADLGSALAHAGEGNPLGSGGMRSKLLAARLAGRVGIPTLLLPGRRPGALLEALGGAPLGTYFHAKRRYRGEKAWLYGLLRPKGELVLDRGAVRALKERGASLLPAGVKEVRGRFGRGEAVRLLSEEGEEVGVGLANYASEEIARIKGRRSAEIEAVLGYRYTEEVVHRDHLALKEEA'),\n",
       " (0,\n",
       "  'MNQEQSEIPRAKLQEEALSHIDALYRTAYRMTGNAMDAEDLVQETYLRAFRSLHQFRPGTNLRAWLFKILTNAFINDYRKRSRRPRSTSLDNVEDYYLYSHLIDSGIQPASTRPEDEVLANIPDEAVIAALESLPDEFRQVVLLADVEGFSYREIADIMSTPVGTVMSRLHRARRRLQGAILKACTAAACSVGSDGDACDARLR'),\n",
       " (0,\n",
       "  'MPRSVKKGPFVDHHLLKKVIEAQESGNKRPIKTWSRRSMILPDMIGLTIAVHNGKEHIPVYVSENMVGHKLGEFSMTRTYRGHAADKKSR')]"
      ]
     },
     "execution_count": 92,
     "metadata": {},
     "output_type": "execute_result"
    }
   ],
   "source": [
    "#shuffle the tuple lists to randomize order of examples\n",
    "\n",
    "random.shuffle(tuples_thermo)\n",
    "random.shuffle(tuples_meso)\n",
    "random.shuffle(tuples_psychro)\n",
    "tuples_thermo[:3]"
   ]
  },
  {
   "cell_type": "code",
   "execution_count": 106,
   "metadata": {},
   "outputs": [],
   "source": [
    "#Take the first 15k examples of each to equilibrate # of examples of each class and then shuffle\n",
    "shuffled_filtered_tuple_data = tuples_psychro[:15000]+tuples_meso[:15000]+tuples_thermo[:15000]\n",
    "random.shuffle(shuffled_filtered_tuple_data)\n",
    "\n"
   ]
  },
  {
   "cell_type": "code",
   "execution_count": 107,
   "metadata": {},
   "outputs": [
    {
     "data": {
      "text/plain": [
       "{0, 1, 2}"
      ]
     },
     "execution_count": 107,
     "metadata": {},
     "output_type": "execute_result"
    }
   ],
   "source": [
    "set(shuffled_filtered_tuple_data[i][0] for i in range(len(shuffled_filtered_tuple_data)))"
   ]
  },
  {
   "cell_type": "code",
   "execution_count": 108,
   "metadata": {},
   "outputs": [
    {
     "data": {
      "text/plain": [
       "4500.0"
      ]
     },
     "execution_count": 108,
     "metadata": {},
     "output_type": "execute_result"
    }
   ],
   "source": [
    "len(shuffled_filtered_tuple_data)*.1\n"
   ]
  },
  {
   "cell_type": "code",
   "execution_count": 109,
   "metadata": {},
   "outputs": [],
   "source": [
    "#test train  and validation split the shuffled tuple data\n",
    "test_tuple_data = shuffled_filtered_tuple_data[:4500]\n",
    "valid_tuple_data = shuffled_filtered_tuple_data[4500:9000]\n",
    "train_tuple_data =shuffled_filtered_tuple_data[9000:]\n"
   ]
  },
  {
   "cell_type": "code",
   "execution_count": 110,
   "metadata": {},
   "outputs": [
    {
     "data": {
      "text/plain": [
       "(1,\n",
       " 'MNLASLDLNLVVALRVLLEERNVTRAGQRVGLSQPAMSAALFRLRKHFDDELLARVGGHYELTALGQVLLDRTATAYDVLERLFSSQASFDPARESREFKLVASDYAVSVFGAELARVVHEEAPGIRLRFTQTPPTVVDDTATLLSAVDGLLMPHGVISGFPATDLYDDQWVFVVADDHPTVTDGLTRRDLAELPWVTYQRTYDAPAVRQLGMLGIEPRVEASVDSFQLLPLLVAGTRRIALIQARLARLLAPIAPVRLVEPPYEAVPLQEALWWHPVHTHDAAHVWLRETAERVGAGLPQVNDVWQ')"
      ]
     },
     "execution_count": 110,
     "metadata": {},
     "output_type": "execute_result"
    }
   ],
   "source": [
    "test_tuple_data[0]"
   ]
  },
  {
   "cell_type": "code",
   "execution_count": 111,
   "metadata": {},
   "outputs": [
    {
     "data": {
      "text/plain": [
       "(2,\n",
       " 'MEANTTQMIVGTKYMCQRDNRTTMKYRIFAFIVLFLFIYNTDVFSQVSRYSQPFDISPPSSNIDLNQLDQTLSTLQDLYDQNYLIIQEKVNNCHNMIQLVKNYDNQSASVYQKKFNSIIDILNGERKIKYSDGSIVENNITDKTFFNYVTKQLDFLQNKMSRR')"
      ]
     },
     "execution_count": 111,
     "metadata": {},
     "output_type": "execute_result"
    }
   ],
   "source": [
    "valid_tuple_data[0]"
   ]
  },
  {
   "cell_type": "code",
   "execution_count": 112,
   "metadata": {},
   "outputs": [
    {
     "data": {
      "text/plain": [
       "(1,\n",
       " 'MSAPASPTTSLDNLHAVFKAYDVRGLVPEQVDEALARAVGNAFVTVTGAAGSGVVVGHDMRPSSPGMARAFAEGAAAAGADVTLIGLASTDQLYFASGHLGLPGAMFTASHNPAQYNGIKMCRAGAVPLGTETGLLEIRDLVGSGGQVVADRAGSIGQTDVLAAYAAHLHSLVPVRGRRLKVVVDAGNGMAGHTAPAVLGALDLDVVPMYYELDGSFPNHEANPIDPANLVDLQAKVRESGADIGLAFDGDADRCFLVDERGETVNPSALTALIASRELARQPGSTVIHNLITSRAVPELVTALGGMPVRTRVGHSYIKATMAQTDAVFGGEHSGHFYFRDFWRADSGMLAALHALAALAATDEPLSGLLSTFSPYATSPEINSTVADQQQVMRTIEEKYAGRDGVSIDHLDGLTVSHPDWWFNVRPSNTEPLLRLNAEAADEQSLQELCDTVLALIRT')"
      ]
     },
     "execution_count": 112,
     "metadata": {},
     "output_type": "execute_result"
    }
   ],
   "source": [
    "train_tuple_data[0]"
   ]
  },
  {
   "cell_type": "code",
   "execution_count": 113,
   "metadata": {},
   "outputs": [],
   "source": [
    "#save these datasets to .pickle files\n",
    "with open('/home/achazing/other/classes/data_science_class/ThermoDrift/data/test_tuple_data.pkl','wb') as file: \n",
    "    pickle.dump(test_tuple_data, file)\n",
    "    \n",
    "with open('/home/achazing/other/classes/data_science_class/ThermoDrift/data/valid_tuple_data.pkl','wb') as file: \n",
    "    pickle.dump(valid_tuple_data, file)\n",
    "    \n",
    "with open('/home/achazing/other/classes/data_science_class/ThermoDrift/data/train_tuple_data.pkl','wb') as file: \n",
    "    pickle.dump(train_tuple_data, file)\n",
    "    \n"
   ]
  },
  {
   "cell_type": "code",
   "execution_count": 9,
   "metadata": {},
   "outputs": [
    {
     "data": {
      "text/plain": [
       "(0, 2000)"
      ]
     },
     "execution_count": 9,
     "metadata": {},
     "output_type": "execute_result"
    },
    {
     "data": {
      "image/png": "[encoded data removed]",
      "text/plain": [
       "<Figure size 432x288 with 1 Axes>"
      ]
     },
     "metadata": {
      "needs_background": "light"
     },
     "output_type": "display_data"
    }
   ],
   "source": [
    "plt.hist(length_list,bins=200)\n",
    "plt.xlim(0,2000)"
   ]
  },
  {
   "cell_type": "code",
   "execution_count": 10,
   "metadata": {},
   "outputs": [],
   "source": [
    "thermo_df = df_combine[df_combine['class'] == 'Thermophillic']\n",
    "thermo_seq_list = thermo_df['sequence'].tolist()\n",
    "thermo_length_list = [len(i) for i in thermo_seq_list]\n",
    "\n",
    "psychro_df = df_combine[df_combine['class'] == 'Psychrophillic']\n",
    "psychro_seq_list = psychro_df['sequence'].tolist()\n",
    "psychro_length_list = [len(i) for i in psychro_seq_list]\n",
    "\n",
    "meso_df = df_combine[df_combine['class'] == 'Mesophillic']\n",
    "meso_seq_list = meso_df['sequence'].tolist()\n",
    "meso_length_list = [len(i) for i in meso_seq_list]"
   ]
  },
  {
   "cell_type": "code",
   "execution_count": 11,
   "metadata": {},
   "outputs": [
    {
     "data": {
      "text/plain": [
       "(0, 2000)"
      ]
     },
     "execution_count": 11,
     "metadata": {},
     "output_type": "execute_result"
    },
    {
     "data": {
      "image/png": "[encoded data removed]",
      "text/plain": [
       "<Figure size 432x288 with 1 Axes>"
      ]
     },
     "metadata": {
      "needs_background": "light"
     },
     "output_type": "display_data"
    }
   ],
   "source": [
    "plt.hist(meso_length_list,bins=200)\n",
    "plt.xlim(0,2000)"
   ]
  },
  {
   "cell_type": "code",
   "execution_count": 12,
   "metadata": {},
   "outputs": [
    {
     "data": {
      "text/plain": [
       "(0, 2000)"
      ]
     },
     "execution_count": 12,
     "metadata": {},
     "output_type": "execute_result"
    },
    {
     "data": {
      "image/png": "[encoded data removed]",
      "text/plain": [
       "<Figure size 432x288 with 1 Axes>"
      ]
     },
     "metadata": {
      "needs_background": "light"
     },
     "output_type": "display_data"
    }
   ],
   "source": [
    "plt.hist(psychro_length_list,bins=200)\n",
    "plt.xlim(0,2000)"
   ]
  },
  {
   "cell_type": "code",
   "execution_count": 13,
   "metadata": {},
   "outputs": [
    {
     "data": {
      "text/plain": [
       "(0, 2000)"
      ]
     },
     "execution_count": 13,
     "metadata": {},
     "output_type": "execute_result"
    },
    {
     "data": {
      "image/png": "[encoded data removed]",
      "text/plain": [
       "<Figure size 432x288 with 1 Axes>"
      ]
     },
     "metadata": {
      "needs_background": "light"
     },
     "output_type": "display_data"
    }
   ],
   "source": [
    "plt.hist(thermo_length_list,bins=200)\n",
    "plt.xlim(0,2000)"
   ]
  },
  {
   "cell_type": "code",
   "execution_count": null,
   "metadata": {},
   "outputs": [],
   "source": []
  }
 ],
 "metadata": {
  "kernelspec": {
   "display_name": "Tensorflow (Python 3.6)",
   "language": "python",
   "name": "tensorflow"
  },
  "language_info": {
   "codemirror_mode": {
    "name": "ipython",
    "version": 3
   },
   "file_extension": ".py",
   "mimetype": "text/x-python",
   "name": "python",
   "nbconvert_exporter": "python",
   "pygments_lexer": "ipython3",
   "version": "3.6.9"
  }
 },
 "nbformat": 4,
 "nbformat_minor": 5
}
