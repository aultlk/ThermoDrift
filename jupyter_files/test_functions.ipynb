{
 "cells": [
  {
   "cell_type": "code",
   "execution_count": 60,
   "id": "0a5a6b7c",
   "metadata": {},
   "outputs": [],
   "source": [
    "#import modules\n",
    "import pandas as pd\n",
    "import numpy as np\n",
    "import Bio\n",
    "from Bio import Seq\n",
    "from Bio import SeqIO\n",
    "import torch\n",
    "import matplotlib.pyplot as plt\n",
    "import sys\n",
    "from torch.utils.data import TensorDataset, DataLoader\n",
    "import unittest\n",
    "import python_files.functions as functions"
   ]
  },
  {
   "cell_type": "code",
   "execution_count": 61,
   "id": "6433eaac",
   "metadata": {},
   "outputs": [],
   "source": [
    "#define data file paths for running tests locally\n",
    "thermo_path_test = 'data/thermo_test.fasta'\n",
    "psychro_path_test = 'data/psychro_test.fasta'\n",
    "meso_path_test = 'data/meso_test.fasta'"
   ]
  },
  {
   "cell_type": "code",
   "execution_count": 64,
   "id": "29837849",
   "metadata": {},
   "outputs": [
    {
     "name": "stdout",
     "output_type": "stream",
     "text": [
      "10\n",
      "10\n",
      "10\n",
      "Just made new tensor X_data\n",
      "torch.Size([30, 500, 25])\n",
      "<class 'torch.Tensor'>\n",
      "Just made new tensor y_data\n",
      "<class 'torch.Tensor'>\n",
      "torch.Size([30, 3])\n"
     ]
    }
   ],
   "source": [
    "# Define a class in which the tests will run\n",
    "class TestDataLoader(unittest.TestCase):\n",
    "    \n",
    "    #define data file paths for test fasta files which contain 10 examples each\n",
    "    thermo_path_test = 'data/thermo_test.fasta'\n",
    "    psychro_path_test = 'data/psychro_test.fasta'\n",
    "    meso_path_test = 'data/meso_test.fasta'\n",
    "    \n",
    "    #define a test for the fasta_to_classified_df function\n",
    "    def test_fasta_to_classified_df(self):\n",
    "        #run the fasta_to_classified_df function on each test fasta file\n",
    "        self.df_thermo = functions.fasta_to_classified_df(thermo_path_test,'Thermophillic')\n",
    "        self.df_psychro = functions.fasta_to_classified_df(psychro_path_test,'Psychrophillic')\n",
    "        self.df_meso = functions.fasta_to_classified_df(meso_path_test,'Mesophillic')\n",
    "        #count the number of sequences in the thermo fasta file manually\n",
    "        self.file = open(thermo_path_test,'r')\n",
    "        self.count = 0\n",
    "        for line in self.file:\n",
    "            if line.startswith('>'):\n",
    "                self.count = self.count+1\n",
    "        #assert that the len of seqs in the fasta file (count) is equal to the length of the df (rows)\n",
    "        self.assertEqual(self.df_thermo.shape[0], self.count)\n",
    "\n",
    "     #construct dataframes for each test fasta file\n",
    "    df_thermo = functions.fasta_to_classified_df(thermo_path_test,'Thermophillic')\n",
    "    df_psychro = functions.fasta_to_classified_df(psychro_path_test,'Psychrophillic')\n",
    "    df_meso = functions.fasta_to_classified_df(meso_path_test,'Mesophillic')\n",
    "        \n",
    "    def test_combine_dfs(self):\n",
    "        #construct combined dataframe\n",
    "        self.df_list = [self.df_thermo, self.df_psychro, self.df_meso]\n",
    "        #assert that the length of the combined df is equal to the sum of the lengths of each df\n",
    "        self.assertEqual(len(functions.combine_dfs(self.df_list)), sum([len(l) for l in self.df_list]))\n",
    "\n",
    "    #construct combined dataframe\n",
    "    df_combine = functions.combine_dfs([df_thermo,df_psychro,df_meso])\n",
    "    \n",
    "    def test_filter_seqs(self):\n",
    "        #filter the combined dataframe\n",
    "        self.df_filter = functions.filter_seqs(self.df_combine)\n",
    "        #assert that the length of filtered sequences are greater than 75 aas\n",
    "        for l in self.df_filter['sequence'].tolist(): \n",
    "            self.assertTrue(len(l)>75)\n",
    "        #assert that the filtered sequences start with M\n",
    "        for l in self.df_filter['sequence'].tolist(): \n",
    "            self.assertTrue(l.startswith('M'))\n",
    "    \n",
    "    #filter the combined dataframe\n",
    "    df_filter = functions.filter_seqs(df_combine)\n",
    "    \n",
    "    def test_seq1hot(self):\n",
    "        self.X_test = functions.seq1hot(self.df_filter['sequence'].tolist())\n",
    "        #assert that the 1hot encoded sequences have the same length (number of seqs) as df_filter\n",
    "        self.assertTrue(self.X_test.shape[0] == self.df_filter.shape[0])\n",
    "        #assert that the 1hot encoded sequences have been cropped and padded to be 500 aas long\n",
    "        self.assertEqual(self.X_test.shape[1],500)\n",
    "        #assert that the 1hot encoded sequences have 25 different aas and characters\n",
    "        self.assertEqual(self.X_test.shape[2],25)  \n",
    "               \n",
    "    #1hotencode the seqs and classes\n",
    "    X_data = functions.seq1hot(df_filter['sequence'].tolist())\n",
    "    y_data = functions.class1hot(df_filter['class'].tolist())  \n",
    "    \n",
    "    def test_class1hot(self):\n",
    "        self.y_test = functions.class1hot(self.df_filter['class'].tolist())\n",
    "        #assert that the 1hot encoded classes have the same length (number of classes) as df_filter\n",
    "        self.assertTrue(self.y_test.shape[0] == self.df_filter.shape[0])\n",
    "        #assert that the 1hotencoded classes have three possible classes\n",
    "        self.assertEqual(self.y_test.shape[1], 3)"
   ]
  },
  {
   "cell_type": "code",
   "execution_count": 65,
   "id": "4073d69c",
   "metadata": {},
   "outputs": [
    {
     "name": "stderr",
     "output_type": "stream",
     "text": [
      "test_class1hot (__main__.TestDataLoader) ... ok\n",
      "test_combine_dfs (__main__.TestDataLoader) ... ok\n",
      "test_fasta_to_classified_df (__main__.TestDataLoader) ... ok\n",
      "test_filter_seqs (__main__.TestDataLoader) ... ok\n",
      "test_seq1hot (__main__.TestDataLoader) ... "
     ]
    },
    {
     "name": "stdout",
     "output_type": "stream",
     "text": [
      "Just made new tensor y_data\n",
      "<class 'torch.Tensor'>\n",
      "torch.Size([30, 3])\n",
      "10\n",
      "10\n",
      "10\n",
      "Just made new tensor X_data\n",
      "torch.Size([30, 500, 25])\n",
      "<class 'torch.Tensor'>\n"
     ]
    },
    {
     "name": "stderr",
     "output_type": "stream",
     "text": [
      "ok\n",
      "\n",
      "----------------------------------------------------------------------\n",
      "Ran 5 tests in 0.072s\n",
      "\n",
      "OK\n"
     ]
    },
    {
     "data": {
      "text/plain": [
       "<unittest.runner.TextTestResult run=5 errors=0 failures=0>"
      ]
     },
     "execution_count": 65,
     "metadata": {},
     "output_type": "execute_result"
    }
   ],
   "source": [
    "suite = unittest.TestLoader().loadTestsFromTestCase(TestDataLoader)\n",
    "runner = unittest.TextTestRunner(verbosity=2)\n",
    "runner.run(suite)"
   ]
  },
  {
   "cell_type": "code",
   "execution_count": null,
   "id": "ed0321af",
   "metadata": {},
   "outputs": [],
   "source": []
  },
  {
   "cell_type": "code",
   "execution_count": null,
   "id": "d6b31c76",
   "metadata": {},
   "outputs": [],
   "source": []
  }
 ],
 "metadata": {
  "kernelspec": {
   "display_name": "Python 3 (ipykernel)",
   "language": "python",
   "name": "python3"
  },
  "language_info": {
   "codemirror_mode": {
    "name": "ipython",
    "version": 3
   },
   "file_extension": ".py",
   "mimetype": "text/x-python",
   "name": "python",
   "nbconvert_exporter": "python",
   "pygments_lexer": "ipython3",
   "version": "3.9.7"
  }
 },
 "nbformat": 4,
 "nbformat_minor": 5
}
