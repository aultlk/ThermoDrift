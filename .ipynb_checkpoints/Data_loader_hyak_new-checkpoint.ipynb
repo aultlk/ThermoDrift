{
 "cells": [
  {
   "cell_type": "code",
   "execution_count": 1,
   "id": "0a5a6b7c",
   "metadata": {},
   "outputs": [],
   "source": [
    "#import modules\n",
    "import pandas as pd\n",
    "import numpy as np\n",
    "import Bio\n",
    "from Bio import Seq\n",
    "from Bio import SeqIO\n",
    "import torch\n",
    "import matplotlib.pyplot as plt\n",
    "import sys\n",
    "from torch.utils.data import TensorDataset, DataLoader"
   ]
  },
  {
   "cell_type": "code",
   "execution_count": 2,
   "id": "35ac7d77",
   "metadata": {},
   "outputs": [],
   "source": [
    "#define data file paths for running on hyak\n",
    "thermo_path = '/usr/lusers/achazing/thermo_proteins/ThermoDrift/data/uniprot-thermophilus.fasta'\n",
    "psychro_path = '/usr/lusers/achazing/thermo_proteins/ThermoDrift/data/uniprot-psychrophilus.fasta'\n",
    "meso_path = '/usr/lusers/achazing/thermo_proteins/ThermoDrift/data/uniprot-mesophilus.fasta'"
   ]
  },
  {
   "cell_type": "code",
   "execution_count": 3,
   "id": "6433eaac",
   "metadata": {},
   "outputs": [],
   "source": [
    "#define data file paths for running locally/testing\n",
    "thermo_path_local = '../../../data_sets/thermal_proteins/uniprot-thermophilus.fasta'\n",
    "psychro_path_local = '../../../data_sets/thermal_proteins/uniprot-psychrophilus.fasta'\n",
    "meso_path_local = '../../../data_sets/thermal_proteins/uniprot-mesophilus.fasta'"
   ]
  },
  {
   "cell_type": "code",
   "execution_count": 4,
   "id": "3e94c400",
   "metadata": {},
   "outputs": [
    {
     "name": "stdout",
     "output_type": "stream",
     "text": [
      "103591\n",
      "20718\n",
      "Thermo data has been processed\n"
     ]
    }
   ],
   "source": [
    "#import Thermophllic proteins datasets\n",
    "thermo_dict = {}  #define empty dict to store ids and sequences \n",
    "with open(thermo_path) as thermo_fasta_file:  # Will close handle cleanly\n",
    "    identifiers = []  #define empty list to store ids\n",
    "    sequence = []   #define empty list to store sequences\n",
    "    for seq_record in SeqIO.parse(thermo_fasta_file, 'fasta'):  # (generator)\n",
    "        identifiers.append(str(seq_record.id))  #append ids to id_list\n",
    "        sequence.append(str(seq_record.seq))  #append sequences to seq_list\n",
    "        thermo_dict[str(seq_record.id)] = str(seq_record.seq)   #populate the dict with ids and sequences\n",
    "\n",
    "thermo_list = list(thermo_dict.items())  #unpack the dict \n",
    "df_thermo = pd.DataFrame(thermo_list)  #create df from dict items\n",
    "df_thermo.columns = ['protein','sequence']  #define column names\n",
    "df_thermo['class'] = 'Thermophillic'   #define the class for all these sequences\n",
    "print(len(df_thermo.index))\n",
    "#sample 1/5 of the thermo data\n",
    "df_thermo = df_thermo.sample(frac=0.20)   #sample 1/5 of the thermo protein data because this dataset is 5x larger than the others\n",
    "print(len(df_thermo.index))\n",
    "print('Thermo data has been processed')\n"
   ]
  },
  {
   "cell_type": "code",
   "execution_count": 5,
   "id": "6bd72130",
   "metadata": {},
   "outputs": [
    {
     "name": "stdout",
     "output_type": "stream",
     "text": [
      "23618\n",
      "Psychro data has been processed\n"
     ]
    }
   ],
   "source": [
    "#import Psychrophillic proteins datasets\n",
    "#repeat the data loading process as shown above for thermo\n",
    "psychro_dict = {}\n",
    "with open(psychro_path) as psychro_fasta_file:  # Will close handle cleanly\n",
    "    psychro_identifiers = []\n",
    "    psychro_sequence = []\n",
    "    for seq_record in SeqIO.parse(psychro_fasta_file, 'fasta'):  # (generator)\n",
    "        psychro_identifiers.append(str(seq_record.id))\n",
    "        psychro_sequence.append(str(seq_record.seq))\n",
    "        psychro_dict[str(seq_record.id)] = str(seq_record.seq)\n",
    "psychro_list = list(psychro_dict.items())\n",
    "df_psychro = pd.DataFrame(psychro_list)\n",
    "df_psychro.columns = ['protein','sequence']\n",
    "df_psychro['class'] = 'Psychrophillic'\n",
    "print(len(df_psychro.index))\n",
    "print('Psychro data has been processed')\n"
   ]
  },
  {
   "cell_type": "code",
   "execution_count": 6,
   "id": "50553203",
   "metadata": {},
   "outputs": [
    {
     "name": "stdout",
     "output_type": "stream",
     "text": [
      "19386\n",
      "Meso data has been processed\n"
     ]
    }
   ],
   "source": [
    "#import mesophillic proteins datasets\n",
    "#repeat the data loading process as shown above for thermo\n",
    "meso_dict = {}\n",
    "with open(meso_path) as meso_fasta_file:  # Will close handle cleanly\n",
    "    meso_identifiers = []\n",
    "    meso_sequence = []\n",
    "    for seq_record in SeqIO.parse(meso_fasta_file, 'fasta'):  # (generator)\n",
    "        meso_identifiers.append(str(seq_record.id))\n",
    "        meso_sequence.append(str(seq_record.seq))\n",
    "        meso_dict[str(seq_record.id)] = str(seq_record.seq)\n",
    "\n",
    "meso_list = list(meso_dict.items())\n",
    "df_meso = pd.DataFrame(meso_list)\n",
    "df_meso.columns = ['protein','sequence']\n",
    "df_meso['class'] = 'Mesophillic'\n",
    "print(len(df_meso.index))\n",
    "print('Meso data has been processed')\n"
   ]
  },
  {
   "cell_type": "code",
   "execution_count": 7,
   "id": "f955150e",
   "metadata": {},
   "outputs": [
    {
     "data": {
      "text/html": [
       "<div>\n",
       "<style scoped>\n",
       "    .dataframe tbody tr th:only-of-type {\n",
       "        vertical-align: middle;\n",
       "    }\n",
       "\n",
       "    .dataframe tbody tr th {\n",
       "        vertical-align: top;\n",
       "    }\n",
       "\n",
       "    .dataframe thead th {\n",
       "        text-align: right;\n",
       "    }\n",
       "</style>\n",
       "<table border=\"1\" class=\"dataframe\">\n",
       "  <thead>\n",
       "    <tr style=\"text-align: right;\">\n",
       "      <th></th>\n",
       "      <th>protein</th>\n",
       "      <th>sequence</th>\n",
       "      <th>class</th>\n",
       "    </tr>\n",
       "  </thead>\n",
       "  <tbody>\n",
       "    <tr>\n",
       "      <th>0</th>\n",
       "      <td>tr|A0A1J5TUT4|A0A1J5TUT4_9GAMM</td>\n",
       "      <td>MEFSVKKNENYYNNIFCDSLGGKRETKHYYKYSNKQSFIKIDCETE...</td>\n",
       "      <td>Thermophillic</td>\n",
       "    </tr>\n",
       "    <tr>\n",
       "      <th>1</th>\n",
       "      <td>tr|A0A3P4AW63|A0A3P4AW63_THETH</td>\n",
       "      <td>MDREALLERLKEPFDLLVLGGGATGAGVLWEATLRGLKAALVEAGD...</td>\n",
       "      <td>Thermophillic</td>\n",
       "    </tr>\n",
       "    <tr>\n",
       "      <th>2</th>\n",
       "      <td>tr|Q5SI34|Q5SI34_THET8</td>\n",
       "      <td>MEVKAFLERETLDRTLGVRYLKAEKDEVVAELVVTPKVHQPFGFLH...</td>\n",
       "      <td>Thermophillic</td>\n",
       "    </tr>\n",
       "    <tr>\n",
       "      <th>3</th>\n",
       "      <td>tr|V8LTK9|V8LTK9_STRTR</td>\n",
       "      <td>MYSPDRAKQIKFTKEKLKKDGIIGFIEKFSNKDITEFLKREHIKDS...</td>\n",
       "      <td>Thermophillic</td>\n",
       "    </tr>\n",
       "    <tr>\n",
       "      <th>4</th>\n",
       "      <td>tr|A0A806TCI7|A0A806TCI7_STRTR</td>\n",
       "      <td>MTNRKDDHIRYALKYQSPYNSFDDMELIHKSLPTYDLDQIDLSTHF...</td>\n",
       "      <td>Thermophillic</td>\n",
       "    </tr>\n",
       "  </tbody>\n",
       "</table>\n",
       "</div>"
      ],
      "text/plain": [
       "                          protein  \\\n",
       "0  tr|A0A1J5TUT4|A0A1J5TUT4_9GAMM   \n",
       "1  tr|A0A3P4AW63|A0A3P4AW63_THETH   \n",
       "2          tr|Q5SI34|Q5SI34_THET8   \n",
       "3          tr|V8LTK9|V8LTK9_STRTR   \n",
       "4  tr|A0A806TCI7|A0A806TCI7_STRTR   \n",
       "\n",
       "                                            sequence          class  \n",
       "0  MEFSVKKNENYYNNIFCDSLGGKRETKHYYKYSNKQSFIKIDCETE...  Thermophillic  \n",
       "1  MDREALLERLKEPFDLLVLGGGATGAGVLWEATLRGLKAALVEAGD...  Thermophillic  \n",
       "2  MEVKAFLERETLDRTLGVRYLKAEKDEVVAELVVTPKVHQPFGFLH...  Thermophillic  \n",
       "3  MYSPDRAKQIKFTKEKLKKDGIIGFIEKFSNKDITEFLKREHIKDS...  Thermophillic  \n",
       "4  MTNRKDDHIRYALKYQSPYNSFDDMELIHKSLPTYDLDQIDLSTHF...  Thermophillic  "
      ]
     },
     "execution_count": 7,
     "metadata": {},
     "output_type": "execute_result"
    }
   ],
   "source": [
    "# concatenate the three dataframes\n",
    "df_combine = pd.concat([df_thermo,df_meso,df_psychro]).reset_index(drop=True)\n",
    "df_combine.head()"
   ]
  },
  {
   "cell_type": "code",
   "execution_count": 8,
   "id": "62835e5d",
   "metadata": {},
   "outputs": [
    {
     "name": "stdout",
     "output_type": "stream",
     "text": [
      "63722\n",
      "59587\n"
     ]
    }
   ],
   "source": [
    "#filter out proteins that don't start with methionine and are greater than 75 aas\n",
    "good_list = []\n",
    "bad_list = []\n",
    "sequence_list = df_combine['sequence'].tolist()\n",
    "for seq in sequence_list:\n",
    "    if seq.startswith('M'):\n",
    "        if len(seq) > 75:\n",
    "            good_list.append(seq)\n",
    "        \n",
    "    else:\n",
    "        bad_list.append(seq)\n",
    "boolean_series = df_combine.sequence.isin(good_list)\n",
    "df_filter = df_combine[boolean_series]\n",
    "print(len(df_combine))\n",
    "print(len(df_filter))"
   ]
  },
  {
   "cell_type": "code",
   "execution_count": 62,
   "id": "e9f136f5",
   "metadata": {},
   "outputs": [],
   "source": [
    "#define lsts of filtered sequences and classes\n",
    "seq_list = df_filter['sequence'].tolist()\n",
    "class_list = df_filter['class'].tolist()"
   ]
  },
  {
   "cell_type": "code",
   "execution_count": 10,
   "id": "6a821728",
   "metadata": {},
   "outputs": [
    {
     "name": "stdout",
     "output_type": "stream",
     "text": [
      "Just made new tensor X_data\n"
     ]
    }
   ],
   "source": [
    "#one hot encode protein sequence\n",
    "amino_acids = \"ARNDCQEGHILKMFPSTWYVUX_?-\"  #  the order of the one hot encoded amino acids \n",
    "aa2num= {x:i for i,x in enumerate(amino_acids)} # create a dictionary that maps amino acid to integer\n",
    "\n",
    "X_data = torch.tensor([])\n",
    "for i,seq in enumerate(seq_list): \n",
    "    if len(seq) > 500:\n",
    "        seq = seq[:500]     \n",
    "    seq1hot = np.eye(len(amino_acids))[np.array([aa2num.get(res) for res in seq])] \n",
    "    #print(seq1hot)\n",
    "    tensor = torch.tensor(seq1hot)\n",
    "    tensor = torch.nn.functional.pad(tensor, (0,0,0,500-len(seq)))\n",
    "    #print(tensor)\n",
    "    if X_data.size()[0] == 0:\n",
    "        X_data = tensor[None]\n",
    "        print('Just made new tensor X_data')\n",
    "    else:\n",
    "        X_data = torch.cat((X_data,tensor[None]), axis=0)\n",
    "        if i % 1000 == 0:\n",
    "            print(f'Looped through {int(i)} sequences...')\n",
    "        "
   ]
  },
  {
   "cell_type": "code",
   "execution_count": 46,
   "id": "d83716e6",
   "metadata": {},
   "outputs": [
    {
     "name": "stdout",
     "output_type": "stream",
     "text": [
      "{'Thermophillic': 0, 'Mesophillic': 1, 'Psychrophillic': 2}\n",
      "class_temp: [0, 0, 0, 0, 0, 0, 0, 0, 0, 0]\n",
      "class_temp: 59587\n",
      "torch.Size([59587, 3])\n",
      "tensor([1, 0, 0])\n"
     ]
    }
   ],
   "source": [
    "#one hot encode classes\n",
    "classes = ['Thermophillic','Mesophillic','Psychrophillic']\n",
    "#  the order of the one hot encoded classes \n",
    "class2num= {x:i for i,x in enumerate(classes)} \n",
    "# create a dictionary that maps class to integer\n",
    "print(class2num)\n",
    "\n",
    "y_data = torch.tensor([])\n",
    "\n",
    "class_temp = [class2num[s] for s in class_list]\n",
    "print(f'class_temp: {class_temp[:10]}')\n",
    "print(f'class_temp: {len(class_temp)}')\n",
    "y_data = torch.nn.functional.one_hot(torch.tensor(class_temp),3)\n",
    "print(y_data.size())\n",
    "print(y_data[0])\n"
   ]
  },
  {
   "cell_type": "code",
   "execution_count": 15,
   "id": "ed216852",
   "metadata": {},
   "outputs": [],
   "source": [
    "#load the arrays into tensors and save them for training and testing the CNN model\n",
    "  # transform to torch tensor\n",
    "\n",
    "\n",
    "torch.save(X_data, 'tensor_x.pt') #download tensor to share for training\n",
    "torch.save(y_data, 'tensor_y.pt') #download tensor to share for training"
   ]
  },
  {
   "cell_type": "code",
   "execution_count": null,
   "id": "6d69c244",
   "metadata": {},
   "outputs": [],
   "source": []
  },
  {
   "cell_type": "code",
   "execution_count": 61,
   "id": "aada74ca",
   "metadata": {},
   "outputs": [],
   "source": [
    "# #test the data\n",
    "\n",
    "# def one_hot_encode_protein(protein_seq):\n",
    "#     amino_acids = \"ARNDCQEGHILKMFPSTWYVUX_?-\" #  the order of the one hot encoded sequences \n",
    "#     aa2num= {x:i for i,x in enumerate(amino_acids)} # create a dictionary that maps amino acid to integer\n",
    "#     seq1hot = np.eye(len(amino_acids))[np.array([aa2num.get(res) for res in protein_seq])]\n",
    "#     return seq1hot\n",
    "\n",
    "# #define a function to take in a protein class and output a one hot encoded version\n",
    "# def one_hot_encode_class(Class):\n",
    "#     classes = ['Thermophillic','Mesophillic','Psychrophillic'] #  the order of the one hot encoded classes \n",
    "#     class2num= {x:i for i,x in enumerate(classes)} # create a dictionary that maps class to integer\n",
    "#     class1hot = np.eye(len(classes))[np.array([class2num.get(Class)])]\n",
    "#     return class1hot"
   ]
  },
  {
   "cell_type": "code",
   "execution_count": 60,
   "id": "ab3b4e9b",
   "metadata": {},
   "outputs": [],
   "source": [
    "# test1 = seq_list[999]\n",
    "# test2 = class_list[999]\n",
    "# print(test2)"
   ]
  },
  {
   "cell_type": "code",
   "execution_count": 59,
   "id": "f925a8a1",
   "metadata": {},
   "outputs": [],
   "source": [
    "# hot1_test1 = one_hot_encode_protein(test1)\n",
    "# hot1_test2 = one_hot_encode_class(test2)\n",
    "# class2num\n",
    "# print(hot1_test2)"
   ]
  },
  {
   "cell_type": "code",
   "execution_count": 57,
   "id": "e3a9e5a0",
   "metadata": {},
   "outputs": [],
   "source": [
    "# X_4real = torch.load('tensor_x.pt')[999]\n",
    "# y_4real = torch.load('tensor_y.pt')[999][None]\n",
    "# print(y_4real.size())\n",
    "# print(f'y_4real: {y_4real}')\n",
    "# #test_x = [aa2num[s] for s in seq_list[-1]]\n",
    "# onehot_x = torch.tensor(one_hot_encode_protein(test1))\n",
    "# onehot_y_temp = torch.tensor(one_hot_encode_class(test2))\n",
    "# onehot_y = torch.nn.functional.one_hot(torch.tensor([class2num[test2]]),3)\n",
    "# print(onehot_y_temp.shape)\n",
    "# print(onehot_y.shape)\n",
    "# #onehot_x.size()\n",
    "# print(y_4real)\n",
    "# print(onehot_y_temp)\n",
    "# print(onehot_y)\n",
    "\n",
    "# torch.equal(y_4real.long(),onehot_y.long())"
   ]
  },
  {
   "cell_type": "code",
   "execution_count": 58,
   "id": "2fea995a",
   "metadata": {},
   "outputs": [],
   "source": [
    "# print(f'seq_list: {len(seq_list)}')\n",
    "# print(f'class_list: {len(seq_list)}')\n",
    "# print(f'x_data: {X_data.size()}')"
   ]
  },
  {
   "cell_type": "code",
   "execution_count": null,
   "id": "30a42ba6",
   "metadata": {},
   "outputs": [],
   "source": []
  }
 ],
 "metadata": {
  "kernelspec": {
   "display_name": "Python 3 (ipykernel)",
   "language": "python",
   "name": "python3"
  },
  "language_info": {
   "codemirror_mode": {
    "name": "ipython",
    "version": 3
   },
   "file_extension": ".py",
   "mimetype": "text/x-python",
   "name": "python",
   "nbconvert_exporter": "python",
   "pygments_lexer": "ipython3",
   "version": "3.9.7"
  }
 },
 "nbformat": 4,
 "nbformat_minor": 5
}
