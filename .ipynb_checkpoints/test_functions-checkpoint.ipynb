{
 "cells": [
  {
   "cell_type": "code",
   "execution_count": 1,
   "id": "0a5a6b7c",
   "metadata": {},
   "outputs": [],
   "source": [
    "#import modules\n",
    "import pandas as pd\n",
    "import numpy as np\n",
    "import Bio\n",
    "from Bio import Seq\n",
    "from Bio import SeqIO\n",
    "import torch\n",
    "import matplotlib.pyplot as plt\n",
    "import sys\n",
    "from torch.utils.data import TensorDataset, DataLoader\n",
    "import unittest\n",
    "import python_files.functions as functions"
   ]
  },
  {
   "cell_type": "code",
   "execution_count": 2,
   "id": "6433eaac",
   "metadata": {},
   "outputs": [],
   "source": [
    "#define data file paths for running tests locally\n",
    "thermo_path_test = 'data/thermo_test.fasta'\n",
    "psychro_path_test = 'data/psychro_test.fasta'\n",
    "meso_path_test = 'data/meso_test.fasta'"
   ]
  },
  {
   "cell_type": "code",
   "execution_count": 26,
   "id": "29837849",
   "metadata": {},
   "outputs": [
    {
     "name": "stdout",
     "output_type": "stream",
     "text": [
      "10\n",
      "10\n",
      "10\n",
      "Just made new tensor X_data\n",
      "torch.Size([30, 500, 25])\n",
      "<class 'torch.Tensor'>\n",
      "Just made new tensor y_data\n",
      "<class 'torch.Tensor'>\n",
      "torch.Size([30, 3])\n"
     ]
    }
   ],
   "source": [
    "# Define a class in which the tests will run\n",
    "class TestDataLoader(unittest.TestCase):\n",
    "    #define data file paths for test fasta files which contain 10 examples each\n",
    "    thermo_path_test = 'data/thermo_test.fasta'\n",
    "    psychro_path_test = 'data/psychro_test.fasta'\n",
    "    meso_path_test = 'data/meso_test.fasta'\n",
    "    #construct dataframes for each test fasta file\n",
    "    df_thermo = functions.fasta_to_classified_df(thermo_path_test,'Thermophillic')\n",
    "    df_psychro = functions.fasta_to_classified_df(psychro_path_test,'Psychrophillic')\n",
    "    df_meso = functions.fasta_to_classified_df(meso_path_test,'Mesophillic')\n",
    "    #construct combined dataframe\n",
    "    df_combine = functions.combine_dfs([df_thermo,df_psychro,df_meso])\n",
    "    #filter the combined dataframe\n",
    "    df_filter = functions.filter_seqs(df_combine)\n",
    "    #1hotencode the seqs and classes\n",
    "    X_data = functions.seq1hot(df_filter['sequence'].tolist())\n",
    "    y_data = functions.class1hot(df_filter['class'].tolist())\n",
    "    #save and load tensors\n",
    "    functions.save_tensor(X_data,'tensors/test_X_data.pt')\n",
    "    functions.save_tensor(y_data,'tensors/test_y_data.pt')\n",
    "    X_tensor = torch.load('tensors/test_X_data.pt')\n",
    "    y_tensor = torch.load('tensors/test_y_data.pt')\n",
    "    \n",
    "    #define a test for the fasta_to_classified_df function\n",
    "    def test_fasta_to_classified_df(self):\n",
    "        #run the fasta_to_classified_df function on each test fasta file\n",
    "        self.df_thermo = functions.fasta_to_classified_df(thermo_path_test,'Thermophillic')\n",
    "        self.df_psychro = functions.fasta_to_classified_df(psychro_path_test,'Psychrophillic')\n",
    "        self.df_meso = functions.fasta_to_classified_df(meso_path_test,'Mesophillic')\n",
    "        #count the number of sequences in the thermo fasta file manually\n",
    "        self.file = open(thermo_path_test,'r')\n",
    "        self.count = 0\n",
    "        for line in self.file:\n",
    "            if line.startswith('>'):\n",
    "                self.count = self.count+1\n",
    "        #assert that the len of seqs in the fasta file (count) is equal to the length of the df (rows)\n",
    "        self.assertEqual(self.df_thermo.shape[0], self.count)\n",
    "\n",
    "    def test_combine_dfs(self):\n",
    "        #construct combined dataframe\n",
    "        self.df_list = [self.df_thermo, self.df_psychro, self.df_meso]\n",
    "        #assert that the length of the combined df is equal to the sum of the lengths of each df\n",
    "        self.assertEqual(len(functions.combine_dfs(self.df_list)), sum([len(l) for l in self.df_list]))\n",
    "\n",
    "    def test_filter_seqs(self):\n",
    "        self.assertEqual(geomean([1,1]), 1)\n",
    "    '''   \n",
    "    def test_seq1hot(self):\n",
    "        self.assertEqual(geomean([1,1]), 1)\n",
    "               \n",
    "    def test_class1hot(self):\n",
    "        self.assertEqual(geomean([3, 3, 3]), 3)\n",
    "        \n",
    "    def test_save_tensor(self):\n",
    "        self.assertEqual(geomean([3, 3, 3]), 3)\n",
    "    '''"
   ]
  },
  {
   "cell_type": "code",
   "execution_count": 27,
   "id": "4073d69c",
   "metadata": {},
   "outputs": [
    {
     "name": "stderr",
     "output_type": "stream",
     "text": [
      "test_combine_dfs (__main__.TestDataLoader) ... ok\n",
      "test_fasta_to_classified_df (__main__.TestDataLoader) ... "
     ]
    },
    {
     "name": "stdout",
     "output_type": "stream",
     "text": [
      "30\n",
      "10\n",
      "10\n",
      "10\n",
      "10\n",
      "10\n"
     ]
    },
    {
     "name": "stderr",
     "output_type": "stream",
     "text": [
      "ok\n",
      "\n",
      "----------------------------------------------------------------------\n",
      "Ran 2 tests in 0.035s\n",
      "\n",
      "OK\n"
     ]
    },
    {
     "data": {
      "text/plain": [
       "<unittest.runner.TextTestResult run=2 errors=0 failures=0>"
      ]
     },
     "execution_count": 27,
     "metadata": {},
     "output_type": "execute_result"
    }
   ],
   "source": [
    "suite = unittest.TestLoader().loadTestsFromTestCase(TestDataLoader)\n",
    "runner = unittest.TextTestRunner(verbosity=2)\n",
    "runner.run(suite)"
   ]
  },
  {
   "cell_type": "code",
   "execution_count": null,
   "id": "101dabc9",
   "metadata": {},
   "outputs": [],
   "source": []
  },
  {
   "cell_type": "code",
   "execution_count": null,
   "id": "df2e8b41",
   "metadata": {},
   "outputs": [],
   "source": []
  },
  {
   "cell_type": "code",
   "execution_count": null,
   "id": "20cdf26f",
   "metadata": {},
   "outputs": [],
   "source": []
  },
  {
   "cell_type": "code",
   "execution_count": null,
   "id": "5dd3ec05",
   "metadata": {},
   "outputs": [],
   "source": [
    "#assert that the length of classes is 100\n",
    "assert 100 == y_array.shape[0]\n",
    "\n",
    "#assert that the number of classes is 3 (thermo, meso, psychro)\n",
    "assert 3 == y_array.shape[1]"
   ]
  },
  {
   "cell_type": "code",
   "execution_count": null,
   "id": "fffb18ed",
   "metadata": {},
   "outputs": [],
   "source": [
    "# assert that the length of the sequences are 500 aas\n",
    "assert 500 == X_array.shape[1]\n",
    "\n",
    "# assert that the number of amino acids is 25\n",
    "assert 25 == X_array.shape[2]"
   ]
  },
  {
   "cell_type": "code",
   "execution_count": null,
   "id": "a7735328",
   "metadata": {},
   "outputs": [],
   "source": []
  },
  {
   "cell_type": "code",
   "execution_count": null,
   "id": "707d6232",
   "metadata": {},
   "outputs": [],
   "source": [
    "\n",
    "#define the class name\n",
    "class correlation_tests(unittest.TestCase):\n",
    "    import numpy as np\n",
    "    #define a test dataframe\n",
    "    df = pd.DataFrame([[-1, 1.5, 1], [1, 2, -1], [.5, 0.25, .5]])\n",
    "    \n",
    "    #define tests for the pairwise_correlation function\n",
    "    def test_pairwise_correlation(self):\n",
    "        #assert that the correlation between identical rows is around 1\n",
    "        self.assertTrue(math.isclose(df_utils.pairwise_correlation(self.df)[1,1], 1.))\n",
    "        \n",
    "        #assert that the correlation matrix has the same number of rows as the dataframe\n",
    "        self.assertTrue(df_utils.pairwise_correlation(self.df).shape[0] == self.df.shape[0])\n",
    "        \n",
    "#     #define tests for the corr_rowi_rowj function\n",
    "#     def test_corr_rowi_rowj(self):\n",
    "#         #assert that row indices can't be strings\n",
    "#         try:\n",
    "#             self.assertFalse(df_utils.corr_rowi_rowj(self.df, 2, '1'))\n",
    "#             self.assertTrue(False)\n",
    "#         except:"
   ]
  },
  {
   "cell_type": "code",
   "execution_count": null,
   "id": "dac06488",
   "metadata": {},
   "outputs": [],
   "source": []
  },
  {
   "cell_type": "code",
   "execution_count": null,
   "id": "2b68171e",
   "metadata": {},
   "outputs": [],
   "source": []
  }
 ],
 "metadata": {
  "kernelspec": {
   "display_name": "Python 3 (ipykernel)",
   "language": "python",
   "name": "python3"
  },
  "language_info": {
   "codemirror_mode": {
    "name": "ipython",
    "version": 3
   },
   "file_extension": ".py",
   "mimetype": "text/x-python",
   "name": "python",
   "nbconvert_exporter": "python",
   "pygments_lexer": "ipython3",
   "version": "3.9.7"
  }
 },
 "nbformat": 4,
 "nbformat_minor": 5
}
