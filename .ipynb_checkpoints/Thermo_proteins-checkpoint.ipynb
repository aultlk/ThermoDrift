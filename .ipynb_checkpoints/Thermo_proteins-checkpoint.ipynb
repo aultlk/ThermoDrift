{
 "cells": [
  {
   "cell_type": "code",
   "execution_count": 2,
   "id": "840c5d19",
   "metadata": {},
   "outputs": [],
   "source": [
    "#import modules\n",
    "import pandas as pd\n",
    "import numpy as np\n",
    "import Bio\n",
    "from Bio.Seq import Seq\n",
    "from Bio import SeqIO"
   ]
  },
  {
   "cell_type": "code",
   "execution_count": 3,
   "id": "387c9496",
   "metadata": {},
   "outputs": [
    {
     "ename": "FileNotFoundError",
     "evalue": "[Errno 2] No such file or directory: 'h.fasta'",
     "output_type": "error",
     "traceback": [
      "\u001b[0;31m---------------------------------------------------------------------------\u001b[0m",
      "\u001b[0;31mFileNotFoundError\u001b[0m                         Traceback (most recent call last)",
      "\u001b[0;32m/var/folders/gb/95qmct013qvgs3x2c2qn2s780000gn/T/ipykernel_2544/3007440959.py\u001b[0m in \u001b[0;36m<module>\u001b[0;34m\u001b[0m\n\u001b[1;32m      1\u001b[0m \u001b[0;31m#import Thermophllic proteins datasets\u001b[0m\u001b[0;34m\u001b[0m\u001b[0;34m\u001b[0m\u001b[0m\n\u001b[1;32m      2\u001b[0m \u001b[0mThermo_dict\u001b[0m \u001b[0;34m=\u001b[0m \u001b[0;34m{\u001b[0m\u001b[0;34m}\u001b[0m\u001b[0;34m\u001b[0m\u001b[0;34m\u001b[0m\u001b[0m\n\u001b[0;32m----> 3\u001b[0;31m \u001b[0;32mwith\u001b[0m \u001b[0mopen\u001b[0m\u001b[0;34m(\u001b[0m\u001b[0;34m'h.fasta'\u001b[0m\u001b[0;34m)\u001b[0m \u001b[0;32mas\u001b[0m \u001b[0mThermo_fasta_file\u001b[0m\u001b[0;34m:\u001b[0m  \u001b[0;31m# Will close handle cleanly\u001b[0m\u001b[0;34m\u001b[0m\u001b[0;34m\u001b[0m\u001b[0m\n\u001b[0m\u001b[1;32m      4\u001b[0m     \u001b[0midentifiers\u001b[0m \u001b[0;34m=\u001b[0m \u001b[0;34m[\u001b[0m\u001b[0;34m]\u001b[0m\u001b[0;34m\u001b[0m\u001b[0;34m\u001b[0m\u001b[0m\n\u001b[1;32m      5\u001b[0m     \u001b[0msequence\u001b[0m \u001b[0;34m=\u001b[0m \u001b[0;34m[\u001b[0m\u001b[0;34m]\u001b[0m\u001b[0;34m\u001b[0m\u001b[0;34m\u001b[0m\u001b[0m\n",
      "\u001b[0;31mFileNotFoundError\u001b[0m: [Errno 2] No such file or directory: 'h.fasta'"
     ]
    }
   ],
   "source": [
    "#import Thermophllic proteins datasets\n",
    "Thermo_dict = {}\n",
    "with open('../../../data_sets/thermal_proteins/h.fasta') as Thermo_fasta_file:  # Will close handle cleanly\n",
    "    identifiers = []\n",
    "    sequence = []\n",
    "    for seq_record in SeqIO.parse(Thermo_fasta_file, 'fasta'):  # (generator)\n",
    "        identifiers.append(str(seq_record.id))\n",
    "        sequence.append(str(seq_record.seq))\n",
    "        Thermo_dict[str(seq_record.id)] = str(seq_record.seq)\n",
    "\n",
    "Thermo_list = list(Thermo_dict.items())\n",
    "df_Thermo = pd.DataFrame(Thermo_list)\n",
    "df_Thermo.columns = ['protein','sequence']\n",
    "df_Thermo"
   ]
  },
  {
   "cell_type": "code",
   "execution_count": null,
   "id": "26628ec6",
   "metadata": {},
   "outputs": [],
   "source": [
    "#import Thermophllic proteins datasets\n",
    "Nonthermo_dict = {}\n",
    "with open('l.fasta') as Nonthermo_fasta_file:  # Will close handle cleanly\n",
    "    Nonthermo_identifiers = []\n",
    "    Nonthermo_sequence = []\n",
    "    for seq_record in SeqIO.parse(Nonthermo_fasta_file, 'fasta'):  # (generator)\n",
    "        Nonthermo_identifiers.append(str(seq_record.id))\n",
    "        Nonthermo_sequence.append(str(seq_record.seq))\n",
    "        Nonthermo_dict[str(seq_record.id)] = str(seq_record.seq)\n",
    "\n",
    "Nonthermo_list = list(Nonthermo_dict.items())\n",
    "df_Nonthermo = pd.DataFrame(Nonthermo_list)\n",
    "df_Nonthermo.columns = ['protein','sequence']\n",
    "df_Nonthermo"
   ]
  },
  {
   "cell_type": "code",
   "execution_count": null,
   "id": "83c3289d",
   "metadata": {},
   "outputs": [],
   "source": []
  },
  {
   "cell_type": "code",
   "execution_count": null,
   "id": "b55fb575",
   "metadata": {},
   "outputs": [],
   "source": []
  }
 ],
 "metadata": {
  "kernelspec": {
   "display_name": "Python 3 (ipykernel)",
   "language": "python",
   "name": "python3"
  },
  "language_info": {
   "codemirror_mode": {
    "name": "ipython",
    "version": 3
   },
   "file_extension": ".py",
   "mimetype": "text/x-python",
   "name": "python",
   "nbconvert_exporter": "python",
   "pygments_lexer": "ipython3",
   "version": "3.9.7"
  }
 },
 "nbformat": 4,
 "nbformat_minor": 5
}
