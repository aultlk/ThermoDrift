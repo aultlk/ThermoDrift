{
 "cells": [
  {
   "cell_type": "code",
   "execution_count": 1,
   "id": "0a5a6b7c",
   "metadata": {},
   "outputs": [],
   "source": [
    "#import modules\n",
    "import pandas as pd\n",
    "import numpy as np\n",
    "import Bio\n",
    "from Bio import Seq\n",
    "from Bio import SeqIO\n",
    "import torch\n",
    "import matplotlib.pyplot as plt\n",
    "import sys\n",
    "from torch.utils.data import TensorDataset, DataLoader\n",
    "import functions"
   ]
  },
  {
   "cell_type": "code",
   "execution_count": 2,
   "id": "6433eaac",
   "metadata": {},
   "outputs": [],
   "source": [
    "#define data file paths for running locally/testing\n",
    "thermo_path_local = '../../../data_sets/thermal_proteins/uniprot-thermophilus.fasta'\n",
    "psychro_path_local = '../../../data_sets/thermal_proteins/uniprot-psychrophilus.fasta'\n",
    "meso_path_local = '../../../data_sets/thermal_proteins/uniprot-mesophilus.fasta'"
   ]
  },
  {
   "cell_type": "code",
   "execution_count": 3,
   "id": "4a471531",
   "metadata": {},
   "outputs": [
    {
     "name": "stdout",
     "output_type": "stream",
     "text": [
      "20718\n",
      "19386\n",
      "23618\n"
     ]
    }
   ],
   "source": [
    "#run the fasta_to_classified_df function\n",
    "df_thermo = functions.fasta_to_classified_df(thermo_path_local,protein_class='Thermophillic',sample=True)\n",
    "df_meso = functions.fasta_to_classified_df(meso_path_local,protein_class='Mesophillic')\n",
    "df_psychro = functions.fasta_to_classified_df(psychro_path_local,protein_class='Psychrophillic')\n"
   ]
  },
  {
   "cell_type": "code",
   "execution_count": 4,
   "id": "d54de2eb",
   "metadata": {},
   "outputs": [],
   "source": [
    "#run the combine_dfs function\n",
    "list_dfs = [df_thermo,df_meso,df_psychro]\n",
    "df_combine = functions.combine_dfs(list_dfs)"
   ]
  },
  {
   "cell_type": "code",
   "execution_count": 6,
   "id": "f955150e",
   "metadata": {},
   "outputs": [],
   "source": [
    "#run the filter_seqs function\n",
    "df_filter = functions.filter_seqs(df_combine)"
   ]
  },
  {
   "cell_type": "code",
   "execution_count": 7,
   "id": "e9f136f5",
   "metadata": {},
   "outputs": [],
   "source": [
    "#define lists of filtered sequences and classes\n",
    "seq_list = df_filter['sequence'].tolist()\n",
    "class_list = df_filter['class'].tolist()"
   ]
  },
  {
   "cell_type": "code",
   "execution_count": 9,
   "id": "ed1c1e3b",
   "metadata": {},
   "outputs": [
    {
     "name": "stdout",
     "output_type": "stream",
     "text": [
      "Just made new tensor X_data\n"
     ]
    },
    {
     "ename": "KeyboardInterrupt",
     "evalue": "",
     "output_type": "error",
     "traceback": [
      "\u001b[0;31m---------------------------------------------------------------------------\u001b[0m",
      "\u001b[0;31mKeyboardInterrupt\u001b[0m                         Traceback (most recent call last)",
      "\u001b[0;32m/var/folders/gb/95qmct013qvgs3x2c2qn2s780000gn/T/ipykernel_47312/234512521.py\u001b[0m in \u001b[0;36m<module>\u001b[0;34m\u001b[0m\n\u001b[1;32m      1\u001b[0m \u001b[0;31m#test the seq1hot function\u001b[0m\u001b[0;34m\u001b[0m\u001b[0;34m\u001b[0m\u001b[0m\n\u001b[0;32m----> 2\u001b[0;31m \u001b[0mX_data\u001b[0m \u001b[0;34m=\u001b[0m \u001b[0mfunctions\u001b[0m\u001b[0;34m.\u001b[0m\u001b[0mseq1hot\u001b[0m\u001b[0;34m(\u001b[0m\u001b[0mseq_list\u001b[0m\u001b[0;34m)\u001b[0m\u001b[0;34m\u001b[0m\u001b[0;34m\u001b[0m\u001b[0m\n\u001b[0m",
      "\u001b[0;32m~/Documents/data_class/projects/Thermo_proteins_project/ThermoDrift/functions.py\u001b[0m in \u001b[0;36mseq1hot\u001b[0;34m(seq_list)\u001b[0m\n\u001b[1;32m     88\u001b[0m         \u001b[0;32melse\u001b[0m\u001b[0;34m:\u001b[0m\u001b[0;34m\u001b[0m\u001b[0;34m\u001b[0m\u001b[0m\n\u001b[1;32m     89\u001b[0m             \u001b[0mX_data\u001b[0m \u001b[0;34m=\u001b[0m \u001b[0mtorch\u001b[0m\u001b[0;34m.\u001b[0m\u001b[0mcat\u001b[0m\u001b[0;34m(\u001b[0m\u001b[0;34m(\u001b[0m\u001b[0mX_data\u001b[0m\u001b[0;34m,\u001b[0m\u001b[0mtensor\u001b[0m\u001b[0;34m[\u001b[0m\u001b[0;32mNone\u001b[0m\u001b[0;34m]\u001b[0m\u001b[0;34m)\u001b[0m\u001b[0;34m,\u001b[0m \u001b[0maxis\u001b[0m\u001b[0;34m=\u001b[0m\u001b[0;36m0\u001b[0m\u001b[0;34m)\u001b[0m    \u001b[0;31m#for each iteration concatenate the new sequence tensor to existing tensor\u001b[0m\u001b[0;34m\u001b[0m\u001b[0;34m\u001b[0m\u001b[0m\n\u001b[0;32m---> 90\u001b[0;31m             \u001b[0;32mif\u001b[0m \u001b[0mi\u001b[0m \u001b[0;34m%\u001b[0m \u001b[0;36m1000\u001b[0m \u001b[0;34m==\u001b[0m \u001b[0;36m0\u001b[0m\u001b[0;34m:\u001b[0m    \u001b[0;31m#update user on the status of 1hotencoding, which is quite computationally expensive\u001b[0m\u001b[0;34m\u001b[0m\u001b[0;34m\u001b[0m\u001b[0m\n\u001b[0m\u001b[1;32m     91\u001b[0m                 \u001b[0mprint\u001b[0m\u001b[0;34m(\u001b[0m\u001b[0;34mf'Looped through {int(i)} sequences...'\u001b[0m\u001b[0;34m)\u001b[0m\u001b[0;34m\u001b[0m\u001b[0;34m\u001b[0m\u001b[0m\n\u001b[1;32m     92\u001b[0m     \u001b[0mprint\u001b[0m\u001b[0;34m(\u001b[0m\u001b[0mX_data\u001b[0m\u001b[0;34m.\u001b[0m\u001b[0mshape\u001b[0m\u001b[0;34m)\u001b[0m\u001b[0;34m\u001b[0m\u001b[0;34m\u001b[0m\u001b[0m\n",
      "\u001b[0;31mKeyboardInterrupt\u001b[0m: "
     ]
    }
   ],
   "source": [
    "#run the seq1hot function\n",
    "X_data = functions.seq1hot(seq_list)"
   ]
  },
  {
   "cell_type": "code",
   "execution_count": 10,
   "id": "5d0f0591",
   "metadata": {},
   "outputs": [
    {
     "name": "stdout",
     "output_type": "stream",
     "text": [
      "Just made new tensor y_data\n",
      "<class 'torch.Tensor'>\n",
      "torch.Size([59494, 3])\n"
     ]
    }
   ],
   "source": [
    "#run the class1hot function\n",
    "y_data = functions.class1hot(class_list)"
   ]
  },
  {
   "cell_type": "code",
   "execution_count": 11,
   "id": "f6ef3cb9",
   "metadata": {},
   "outputs": [
    {
     "ename": "NameError",
     "evalue": "name 'X_data' is not defined",
     "output_type": "error",
     "traceback": [
      "\u001b[0;31m---------------------------------------------------------------------------\u001b[0m",
      "\u001b[0;31mNameError\u001b[0m                                 Traceback (most recent call last)",
      "\u001b[0;32m/var/folders/gb/95qmct013qvgs3x2c2qn2s780000gn/T/ipykernel_47312/3822296298.py\u001b[0m in \u001b[0;36m<module>\u001b[0;34m\u001b[0m\n\u001b[1;32m      1\u001b[0m \u001b[0;31m#test the save_tensor function\u001b[0m\u001b[0;34m\u001b[0m\u001b[0;34m\u001b[0m\u001b[0m\n\u001b[0;32m----> 2\u001b[0;31m \u001b[0mfunctions\u001b[0m\u001b[0;34m.\u001b[0m\u001b[0msave_tensor\u001b[0m\u001b[0;34m(\u001b[0m\u001b[0mX_data\u001b[0m\u001b[0;34m,\u001b[0m\u001b[0;34m'test_x.pt'\u001b[0m\u001b[0;34m)\u001b[0m\u001b[0;34m\u001b[0m\u001b[0;34m\u001b[0m\u001b[0m\n\u001b[0m\u001b[1;32m      3\u001b[0m \u001b[0mfunstions\u001b[0m\u001b[0;34m.\u001b[0m\u001b[0msave_tensor\u001b[0m\u001b[0;34m(\u001b[0m\u001b[0my_data\u001b[0m\u001b[0;34m,\u001b[0m\u001b[0;34m'test_y.pt'\u001b[0m\u001b[0;34m)\u001b[0m\u001b[0;34m\u001b[0m\u001b[0;34m\u001b[0m\u001b[0m\n",
      "\u001b[0;31mNameError\u001b[0m: name 'X_data' is not defined"
     ]
    }
   ],
   "source": [
    "#run the save_tensor function\n",
    "functions.save_tensor(X_data,'test_x.pt')\n",
    "funstions.save_tensor(y_data,'test_y.pt')"
   ]
  },
  {
   "cell_type": "code",
   "execution_count": null,
   "id": "67022c95",
   "metadata": {},
   "outputs": [],
   "source": []
  }
 ],
 "metadata": {
  "kernelspec": {
   "display_name": "Python 3 (ipykernel)",
   "language": "python",
   "name": "python3"
  },
  "language_info": {
   "codemirror_mode": {
    "name": "ipython",
    "version": 3
   },
   "file_extension": ".py",
   "mimetype": "text/x-python",
   "name": "python",
   "nbconvert_exporter": "python",
   "pygments_lexer": "ipython3",
   "version": "3.9.7"
  }
 },
 "nbformat": 4,
 "nbformat_minor": 5
}
